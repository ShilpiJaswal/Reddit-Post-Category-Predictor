{
 "cells": [
  {
   "cell_type": "markdown",
   "metadata": {},
   "source": [
    "# Predicting the category of the Reddit post using Natural Language Processing"
   ]
  },
  {
   "cell_type": "code",
   "execution_count": 88,
   "metadata": {},
   "outputs": [],
   "source": [
    "import pandas as pd\n",
    "import numpy as np\n",
    "import matplotlib.pyplot as plt\n",
    "%matplotlib inline\n",
    "from sklearn.feature_extraction.text import CountVectorizer, TfidfVectorizer\n",
    "\n",
    "import string\n",
    "from nltk.corpus import stopwords\n",
    "from nltk.stem import PorterStemmer\n",
    "from sklearn.model_selection import train_test_split\n",
    "from sklearn.ensemble import RandomForestClassifier\n",
    "from sklearn.svm import SVC, NuSVC, LinearSVC\n",
    "from sklearn.metrics import classification_report, confusion_matrix, accuracy_score\n",
    "from sklearn.metrics import roc_auc_score\n",
    "from sklearn.metrics import roc_curve, auc\n",
    "import seaborn as sns\n",
    "from keras.models import Sequential\n",
    "from keras.layers import Dense, Input, Dropout\n",
    "from keras.utils import np_utils"
   ]
  },
  {
   "cell_type": "markdown",
   "metadata": {},
   "source": [
    "Loading the dataset"
   ]
  },
  {
   "cell_type": "code",
   "execution_count": 89,
   "metadata": {
    "collapsed": true
   },
   "outputs": [],
   "source": [
    "df = pd.read_csv('reddit_posts.csv') "
   ]
  },
  {
   "cell_type": "markdown",
   "metadata": {},
   "source": [
    "Displaying the first few rows of the dataset"
   ]
  },
  {
   "cell_type": "code",
   "execution_count": 90,
   "metadata": {},
   "outputs": [
    {
     "data": {
      "text/html": [
       "<div>\n",
       "<style>\n",
       "    .dataframe thead tr:only-child th {\n",
       "        text-align: right;\n",
       "    }\n",
       "\n",
       "    .dataframe thead th {\n",
       "        text-align: left;\n",
       "    }\n",
       "\n",
       "    .dataframe tbody tr th {\n",
       "        vertical-align: top;\n",
       "    }\n",
       "</style>\n",
       "<table border=\"1\" class=\"dataframe\">\n",
       "  <thead>\n",
       "    <tr style=\"text-align: right;\">\n",
       "      <th></th>\n",
       "      <th>adserver_click_url</th>\n",
       "      <th>adserver_imp_pixel</th>\n",
       "      <th>archived</th>\n",
       "      <th>author</th>\n",
       "      <th>author_flair_css_class</th>\n",
       "      <th>author_flair_text</th>\n",
       "      <th>contest_mode</th>\n",
       "      <th>created_utc</th>\n",
       "      <th>disable_comments</th>\n",
       "      <th>distinguished</th>\n",
       "      <th>...</th>\n",
       "      <th>spoiler</th>\n",
       "      <th>stickied</th>\n",
       "      <th>subreddit</th>\n",
       "      <th>subreddit_id</th>\n",
       "      <th>third_party_tracking</th>\n",
       "      <th>third_party_tracking_2</th>\n",
       "      <th>thumbnail</th>\n",
       "      <th>title</th>\n",
       "      <th>ups</th>\n",
       "      <th>url</th>\n",
       "    </tr>\n",
       "  </thead>\n",
       "  <tbody>\n",
       "    <tr>\n",
       "      <th>0</th>\n",
       "      <td>NaN</td>\n",
       "      <td>NaN</td>\n",
       "      <td>False</td>\n",
       "      <td>johnnyawesome0</td>\n",
       "      <td>NaN</td>\n",
       "      <td>NaN</td>\n",
       "      <td>False</td>\n",
       "      <td>1480697304</td>\n",
       "      <td>NaN</td>\n",
       "      <td>NaN</td>\n",
       "      <td>...</td>\n",
       "      <td>False</td>\n",
       "      <td>False</td>\n",
       "      <td>techsupport</td>\n",
       "      <td>t5_2qioo</td>\n",
       "      <td>NaN</td>\n",
       "      <td>NaN</td>\n",
       "      <td>self</td>\n",
       "      <td>Help with audio set-up</td>\n",
       "      <td>1.0</td>\n",
       "      <td>https://www.reddit.com/r/techsupport/comments/...</td>\n",
       "    </tr>\n",
       "    <tr>\n",
       "      <th>1</th>\n",
       "      <td>NaN</td>\n",
       "      <td>NaN</td>\n",
       "      <td>False</td>\n",
       "      <td>Silverfin113</td>\n",
       "      <td>NaN</td>\n",
       "      <td>NaN</td>\n",
       "      <td>False</td>\n",
       "      <td>1480697424</td>\n",
       "      <td>NaN</td>\n",
       "      <td>NaN</td>\n",
       "      <td>...</td>\n",
       "      <td>False</td>\n",
       "      <td>False</td>\n",
       "      <td>learnprogramming</td>\n",
       "      <td>t5_2r7yd</td>\n",
       "      <td>NaN</td>\n",
       "      <td>NaN</td>\n",
       "      <td>self</td>\n",
       "      <td>Optimizing code for speed</td>\n",
       "      <td>23.0</td>\n",
       "      <td>https://www.reddit.com/r/learnprogramming/comm...</td>\n",
       "    </tr>\n",
       "    <tr>\n",
       "      <th>2</th>\n",
       "      <td>NaN</td>\n",
       "      <td>NaN</td>\n",
       "      <td>False</td>\n",
       "      <td>bookbooksbooks</td>\n",
       "      <td>NaN</td>\n",
       "      <td>NaN</td>\n",
       "      <td>False</td>\n",
       "      <td>1480697613</td>\n",
       "      <td>NaN</td>\n",
       "      <td>NaN</td>\n",
       "      <td>...</td>\n",
       "      <td>False</td>\n",
       "      <td>False</td>\n",
       "      <td>gamedev</td>\n",
       "      <td>t5_2qi0a</td>\n",
       "      <td>NaN</td>\n",
       "      <td>NaN</td>\n",
       "      <td>self</td>\n",
       "      <td>Seeking Tales of Development Woe (and Triumph)...</td>\n",
       "      <td>12.0</td>\n",
       "      <td>https://www.reddit.com/r/gamedev/comments/5g4a...</td>\n",
       "    </tr>\n",
       "    <tr>\n",
       "      <th>3</th>\n",
       "      <td>NaN</td>\n",
       "      <td>NaN</td>\n",
       "      <td>False</td>\n",
       "      <td>[deleted]</td>\n",
       "      <td>NaN</td>\n",
       "      <td>NaN</td>\n",
       "      <td>False</td>\n",
       "      <td>1480697634</td>\n",
       "      <td>NaN</td>\n",
       "      <td>NaN</td>\n",
       "      <td>...</td>\n",
       "      <td>False</td>\n",
       "      <td>False</td>\n",
       "      <td>learnprogramming</td>\n",
       "      <td>t5_2r7yd</td>\n",
       "      <td>NaN</td>\n",
       "      <td>NaN</td>\n",
       "      <td>default</td>\n",
       "      <td>[Java] Finding smallest value in an array</td>\n",
       "      <td>0.0</td>\n",
       "      <td>https://www.reddit.com/r/learnprogramming/comm...</td>\n",
       "    </tr>\n",
       "    <tr>\n",
       "      <th>4</th>\n",
       "      <td>NaN</td>\n",
       "      <td>NaN</td>\n",
       "      <td>False</td>\n",
       "      <td>caffeine_potent</td>\n",
       "      <td>NaN</td>\n",
       "      <td>NaN</td>\n",
       "      <td>False</td>\n",
       "      <td>1480697748</td>\n",
       "      <td>NaN</td>\n",
       "      <td>NaN</td>\n",
       "      <td>...</td>\n",
       "      <td>False</td>\n",
       "      <td>False</td>\n",
       "      <td>learnpython</td>\n",
       "      <td>t5_2r8ot</td>\n",
       "      <td>NaN</td>\n",
       "      <td>NaN</td>\n",
       "      <td>self</td>\n",
       "      <td>currying functions using functools</td>\n",
       "      <td>6.0</td>\n",
       "      <td>https://www.reddit.com/r/learnpython/comments/...</td>\n",
       "    </tr>\n",
       "  </tbody>\n",
       "</table>\n",
       "<p>5 rows × 53 columns</p>\n",
       "</div>"
      ],
      "text/plain": [
       "   adserver_click_url  adserver_imp_pixel  archived           author  \\\n",
       "0                 NaN                 NaN     False   johnnyawesome0   \n",
       "1                 NaN                 NaN     False     Silverfin113   \n",
       "2                 NaN                 NaN     False   bookbooksbooks   \n",
       "3                 NaN                 NaN     False        [deleted]   \n",
       "4                 NaN                 NaN     False  caffeine_potent   \n",
       "\n",
       "  author_flair_css_class author_flair_text  contest_mode  created_utc  \\\n",
       "0                    NaN               NaN         False   1480697304   \n",
       "1                    NaN               NaN         False   1480697424   \n",
       "2                    NaN               NaN         False   1480697613   \n",
       "3                    NaN               NaN         False   1480697634   \n",
       "4                    NaN               NaN         False   1480697748   \n",
       "\n",
       "   disable_comments distinguished  \\\n",
       "0               NaN           NaN   \n",
       "1               NaN           NaN   \n",
       "2               NaN           NaN   \n",
       "3               NaN           NaN   \n",
       "4               NaN           NaN   \n",
       "\n",
       "                         ...                         spoiler  stickied  \\\n",
       "0                        ...                           False     False   \n",
       "1                        ...                           False     False   \n",
       "2                        ...                           False     False   \n",
       "3                        ...                           False     False   \n",
       "4                        ...                           False     False   \n",
       "\n",
       "          subreddit  subreddit_id  third_party_tracking  \\\n",
       "0       techsupport      t5_2qioo                   NaN   \n",
       "1  learnprogramming      t5_2r7yd                   NaN   \n",
       "2           gamedev      t5_2qi0a                   NaN   \n",
       "3  learnprogramming      t5_2r7yd                   NaN   \n",
       "4       learnpython      t5_2r8ot                   NaN   \n",
       "\n",
       "   third_party_tracking_2 thumbnail  \\\n",
       "0                     NaN      self   \n",
       "1                     NaN      self   \n",
       "2                     NaN      self   \n",
       "3                     NaN   default   \n",
       "4                     NaN      self   \n",
       "\n",
       "                                               title   ups  \\\n",
       "0                             Help with audio set-up   1.0   \n",
       "1                          Optimizing code for speed  23.0   \n",
       "2  Seeking Tales of Development Woe (and Triumph)...  12.0   \n",
       "3          [Java] Finding smallest value in an array   0.0   \n",
       "4                 currying functions using functools   6.0   \n",
       "\n",
       "                                                 url  \n",
       "0  https://www.reddit.com/r/techsupport/comments/...  \n",
       "1  https://www.reddit.com/r/learnprogramming/comm...  \n",
       "2  https://www.reddit.com/r/gamedev/comments/5g4a...  \n",
       "3  https://www.reddit.com/r/learnprogramming/comm...  \n",
       "4  https://www.reddit.com/r/learnpython/comments/...  \n",
       "\n",
       "[5 rows x 53 columns]"
      ]
     },
     "execution_count": 90,
     "metadata": {},
     "output_type": "execute_result"
    }
   ],
   "source": [
    "df.head() # Displays the first 5 rows of the dataset\n"
   ]
  },
  {
   "cell_type": "markdown",
   "metadata": {},
   "source": [
    "Displaying the number of rows and columns of the dataset"
   ]
  },
  {
   "cell_type": "code",
   "execution_count": 91,
   "metadata": {},
   "outputs": [
    {
     "data": {
      "text/plain": [
       "(26688, 53)"
      ]
     },
     "execution_count": 91,
     "metadata": {},
     "output_type": "execute_result"
    }
   ],
   "source": [
    "df.shape"
   ]
  },
  {
   "cell_type": "markdown",
   "metadata": {},
   "source": [
    "Checking the null values"
   ]
  },
  {
   "cell_type": "code",
   "execution_count": 92,
   "metadata": {},
   "outputs": [
    {
     "data": {
      "text/plain": [
       "Index(['adserver_click_url', 'adserver_imp_pixel', 'archived', 'author',\n",
       "       'author_flair_css_class', 'author_flair_text', 'contest_mode',\n",
       "       'created_utc', 'disable_comments', 'distinguished', 'domain', 'downs',\n",
       "       'edited', 'gilded', 'hide_score', 'href_url', 'id', 'imp_pixel',\n",
       "       'is_self', 'link_flair_css_class', 'link_flair_text', 'locked', 'media',\n",
       "       'media_embed', 'mobile_ad_url', 'name', 'num_comments', 'original_link',\n",
       "       'over_18', 'permalink', 'post_hint', 'preview', 'promoted',\n",
       "       'promoted_by', 'promoted_display_name', 'promoted_url', 'quarantine',\n",
       "       'retrieved_on', 'saved', 'score', 'secure_media', 'secure_media_embed',\n",
       "       'selftext', 'spoiler', 'stickied', 'subreddit', 'subreddit_id',\n",
       "       'third_party_tracking', 'third_party_tracking_2', 'thumbnail', 'title',\n",
       "       'ups', 'url'],\n",
       "      dtype='object')"
      ]
     },
     "execution_count": 92,
     "metadata": {},
     "output_type": "execute_result"
    }
   ],
   "source": [
    "df.columns # Column names"
   ]
  },
  {
   "cell_type": "code",
   "execution_count": 93,
   "metadata": {},
   "outputs": [
    {
     "name": "stdout",
     "output_type": "stream",
     "text": [
      "<class 'pandas.core.frame.DataFrame'>\n",
      "RangeIndex: 26688 entries, 0 to 26687\n",
      "Data columns (total 53 columns):\n",
      "adserver_click_url        0 non-null float64\n",
      "adserver_imp_pixel        0 non-null float64\n",
      "archived                  26688 non-null bool\n",
      "author                    26688 non-null object\n",
      "author_flair_css_class    435 non-null object\n",
      "author_flair_text         351 non-null object\n",
      "contest_mode              26688 non-null bool\n",
      "created_utc               26688 non-null int64\n",
      "disable_comments          0 non-null float64\n",
      "distinguished             85 non-null object\n",
      "domain                    26688 non-null object\n",
      "downs                     26688 non-null float64\n",
      "edited                    26688 non-null object\n",
      "gilded                    26688 non-null float64\n",
      "hide_score                26688 non-null bool\n",
      "href_url                  0 non-null float64\n",
      "id                        26688 non-null object\n",
      "imp_pixel                 0 non-null float64\n",
      "is_self                   26688 non-null bool\n",
      "link_flair_css_class      4292 non-null object\n",
      "link_flair_text           4610 non-null object\n",
      "locked                    26688 non-null bool\n",
      "media                     268 non-null object\n",
      "media_embed               26688 non-null object\n",
      "mobile_ad_url             0 non-null float64\n",
      "name                      26688 non-null object\n",
      "num_comments              26688 non-null float64\n",
      "original_link             0 non-null float64\n",
      "over_18                   26688 non-null bool\n",
      "permalink                 26688 non-null object\n",
      "post_hint                 3513 non-null object\n",
      "preview                   3513 non-null object\n",
      "promoted                  0 non-null float64\n",
      "promoted_by               0 non-null float64\n",
      "promoted_display_name     0 non-null float64\n",
      "promoted_url              0 non-null float64\n",
      "quarantine                26688 non-null bool\n",
      "retrieved_on              26688 non-null float64\n",
      "saved                     26688 non-null bool\n",
      "score                     26688 non-null float64\n",
      "secure_media              268 non-null object\n",
      "secure_media_embed        26688 non-null object\n",
      "selftext                  26688 non-null object\n",
      "spoiler                   26688 non-null bool\n",
      "stickied                  26688 non-null bool\n",
      "subreddit                 26688 non-null object\n",
      "subreddit_id              26688 non-null object\n",
      "third_party_tracking      0 non-null float64\n",
      "third_party_tracking_2    0 non-null float64\n",
      "thumbnail                 26688 non-null object\n",
      "title                     26688 non-null object\n",
      "ups                       26688 non-null float64\n",
      "url                       26688 non-null object\n",
      "dtypes: bool(10), float64(19), int64(1), object(23)\n",
      "memory usage: 9.0+ MB\n"
     ]
    }
   ],
   "source": [
    "# Information about the data set\n",
    "df.info()"
   ]
  },
  {
   "cell_type": "code",
   "execution_count": 94,
   "metadata": {},
   "outputs": [
    {
     "data": {
      "text/plain": [
       "adserver_click_url        26688\n",
       "adserver_imp_pixel        26688\n",
       "archived                      0\n",
       "author                        0\n",
       "author_flair_css_class    26253\n",
       "author_flair_text         26337\n",
       "contest_mode                  0\n",
       "created_utc                   0\n",
       "disable_comments          26688\n",
       "distinguished             26603\n",
       "domain                        0\n",
       "downs                         0\n",
       "edited                        0\n",
       "gilded                        0\n",
       "hide_score                    0\n",
       "href_url                  26688\n",
       "id                            0\n",
       "imp_pixel                 26688\n",
       "is_self                       0\n",
       "link_flair_css_class      22396\n",
       "link_flair_text           22078\n",
       "locked                        0\n",
       "media                     26420\n",
       "media_embed                   0\n",
       "mobile_ad_url             26688\n",
       "name                          0\n",
       "num_comments                  0\n",
       "original_link             26688\n",
       "over_18                       0\n",
       "permalink                     0\n",
       "post_hint                 23175\n",
       "preview                   23175\n",
       "promoted                  26688\n",
       "promoted_by               26688\n",
       "promoted_display_name     26688\n",
       "promoted_url              26688\n",
       "quarantine                    0\n",
       "retrieved_on                  0\n",
       "saved                         0\n",
       "score                         0\n",
       "secure_media              26420\n",
       "secure_media_embed            0\n",
       "selftext                      0\n",
       "spoiler                       0\n",
       "stickied                      0\n",
       "subreddit                     0\n",
       "subreddit_id                  0\n",
       "third_party_tracking      26688\n",
       "third_party_tracking_2    26688\n",
       "thumbnail                     0\n",
       "title                         0\n",
       "ups                           0\n",
       "url                           0\n",
       "dtype: int64"
      ]
     },
     "execution_count": 94,
     "metadata": {},
     "output_type": "execute_result"
    }
   ],
   "source": [
    "df.isnull().sum()"
   ]
  },
  {
   "cell_type": "code",
   "execution_count": 95,
   "metadata": {
    "collapsed": true
   },
   "outputs": [],
   "source": [
    "df.drop(['adserver_click_url', 'adserver_imp_pixel', \n",
    "                'author_flair_css_class', 'author_flair_text','disable_comments','distinguished','href_url',\n",
    "        'imp_pixel','link_flair_css_class','link_flair_text','media','mobile_ad_url','original_link',\n",
    "        'post_hint','preview','promoted','promoted_by','promoted_display_name','promoted_url',\n",
    "        'secure_media','third_party_tracking','third_party_tracking_2'], axis=1, inplace=True)"
   ]
  },
  {
   "cell_type": "code",
   "execution_count": 96,
   "metadata": {},
   "outputs": [
    {
     "data": {
      "text/plain": [
       "archived              0\n",
       "author                0\n",
       "contest_mode          0\n",
       "created_utc           0\n",
       "domain                0\n",
       "downs                 0\n",
       "edited                0\n",
       "gilded                0\n",
       "hide_score            0\n",
       "id                    0\n",
       "is_self               0\n",
       "locked                0\n",
       "media_embed           0\n",
       "name                  0\n",
       "num_comments          0\n",
       "over_18               0\n",
       "permalink             0\n",
       "quarantine            0\n",
       "retrieved_on          0\n",
       "saved                 0\n",
       "score                 0\n",
       "secure_media_embed    0\n",
       "selftext              0\n",
       "spoiler               0\n",
       "stickied              0\n",
       "subreddit             0\n",
       "subreddit_id          0\n",
       "thumbnail             0\n",
       "title                 0\n",
       "ups                   0\n",
       "url                   0\n",
       "dtype: int64"
      ]
     },
     "execution_count": 96,
     "metadata": {},
     "output_type": "execute_result"
    }
   ],
   "source": [
    "df.isnull().sum()"
   ]
  },
  {
   "cell_type": "code",
   "execution_count": 97,
   "metadata": {},
   "outputs": [
    {
     "data": {
      "text/plain": [
       "techsupport         11423\n",
       "learnprogramming     3448\n",
       "technology           2321\n",
       "learnpython          1724\n",
       "gamedev              1281\n",
       "web_design            864\n",
       "Python                603\n",
       "javascript            546\n",
       "linux                 545\n",
       "javahelp              536\n",
       "engineering           525\n",
       "csshelp               393\n",
       "iOSProgramming        330\n",
       "swift                 261\n",
       "programming           254\n",
       "PHP                   192\n",
       "computerscience       162\n",
       "netsec                159\n",
       "java                  157\n",
       "compsci               154\n",
       "django                127\n",
       "css                   106\n",
       "cpp                    86\n",
       "HTML                   85\n",
       "ruby                   77\n",
       "flask                  71\n",
       "html5                  62\n",
       "jquery                 46\n",
       "coding                 34\n",
       "pygame                 34\n",
       "perl                   24\n",
       "lisp                   16\n",
       "programmer             13\n",
       "dailyprogrammer        10\n",
       "IPython                 8\n",
       "inventwithpython        6\n",
       "pystats                 3\n",
       "pythoncoding            2\n",
       "Name: subreddit, dtype: int64"
      ]
     },
     "execution_count": 97,
     "metadata": {},
     "output_type": "execute_result"
    }
   ],
   "source": [
    "#Number of entries in each category\n",
    "df['subreddit'].value_counts() "
   ]
  },
  {
   "cell_type": "code",
   "execution_count": 98,
   "metadata": {},
   "outputs": [
    {
     "data": {
      "text/plain": [
       "<matplotlib.axes._subplots.AxesSubplot at 0x1b352e5e10>"
      ]
     },
     "execution_count": 98,
     "metadata": {},
     "output_type": "execute_result"
    },
    {
     "data": {
      "image/png": "[encoded data removed]",
      "text/plain": [
       "<matplotlib.figure.Figure at 0x1a2b9a0cf8>"
      ]
     },
     "metadata": {},
     "output_type": "display_data"
    }
   ],
   "source": [
    "sns.countplot(x='subreddit',data=df, palette='hls')"
   ]
  },
  {
   "cell_type": "markdown",
   "metadata": {},
   "source": [
    "### Mapping the Subreddit column to 1 if its Techsupport and 0 if its other than that"
   ]
  },
  {
   "cell_type": "code",
   "execution_count": 99,
   "metadata": {
    "collapsed": true
   },
   "outputs": [],
   "source": [
    "df['subreddit'] = df['subreddit'].map(lambda x: 1 if x == 'techsupport' else 0)"
   ]
  },
  {
   "cell_type": "code",
   "execution_count": 100,
   "metadata": {},
   "outputs": [
    {
     "data": {
      "text/plain": [
       "<matplotlib.axes._subplots.AxesSubplot at 0x1ac5a53fd0>"
      ]
     },
     "execution_count": 100,
     "metadata": {},
     "output_type": "execute_result"
    },
    {
     "data": {
      "image/png": "[encoded data removed]",
      "text/plain": [
       "<matplotlib.figure.Figure at 0x1b352e5d68>"
      ]
     },
     "metadata": {},
     "output_type": "display_data"
    }
   ],
   "source": [
    "sns.countplot(x='subreddit',data=df, palette='hls') # Plotting the 'subreddit feature "
   ]
  },
  {
   "cell_type": "code",
   "execution_count": 101,
   "metadata": {},
   "outputs": [
    {
     "data": {
      "text/html": [
       "<div>\n",
       "<style>\n",
       "    .dataframe thead tr:only-child th {\n",
       "        text-align: right;\n",
       "    }\n",
       "\n",
       "    .dataframe thead th {\n",
       "        text-align: left;\n",
       "    }\n",
       "\n",
       "    .dataframe tbody tr th {\n",
       "        vertical-align: top;\n",
       "    }\n",
       "</style>\n",
       "<table border=\"1\" class=\"dataframe\">\n",
       "  <thead>\n",
       "    <tr style=\"text-align: right;\">\n",
       "      <th></th>\n",
       "      <th>archived</th>\n",
       "      <th>author</th>\n",
       "      <th>contest_mode</th>\n",
       "      <th>created_utc</th>\n",
       "      <th>domain</th>\n",
       "      <th>downs</th>\n",
       "      <th>edited</th>\n",
       "      <th>gilded</th>\n",
       "      <th>hide_score</th>\n",
       "      <th>id</th>\n",
       "      <th>...</th>\n",
       "      <th>secure_media_embed</th>\n",
       "      <th>selftext</th>\n",
       "      <th>spoiler</th>\n",
       "      <th>stickied</th>\n",
       "      <th>subreddit</th>\n",
       "      <th>subreddit_id</th>\n",
       "      <th>thumbnail</th>\n",
       "      <th>title</th>\n",
       "      <th>ups</th>\n",
       "      <th>url</th>\n",
       "    </tr>\n",
       "  </thead>\n",
       "  <tbody>\n",
       "    <tr>\n",
       "      <th>0</th>\n",
       "      <td>False</td>\n",
       "      <td>johnnyawesome0</td>\n",
       "      <td>False</td>\n",
       "      <td>1480697304</td>\n",
       "      <td>self.techsupport</td>\n",
       "      <td>0.0</td>\n",
       "      <td>False</td>\n",
       "      <td>0.0</td>\n",
       "      <td>False</td>\n",
       "      <td>5g49s2</td>\n",
       "      <td>...</td>\n",
       "      <td>{}</td>\n",
       "      <td>I have a Sony surround sound system for a blu-...</td>\n",
       "      <td>False</td>\n",
       "      <td>False</td>\n",
       "      <td>1</td>\n",
       "      <td>t5_2qioo</td>\n",
       "      <td>self</td>\n",
       "      <td>Help with audio set-up</td>\n",
       "      <td>1.0</td>\n",
       "      <td>https://www.reddit.com/r/techsupport/comments/...</td>\n",
       "    </tr>\n",
       "    <tr>\n",
       "      <th>1</th>\n",
       "      <td>False</td>\n",
       "      <td>Silverfin113</td>\n",
       "      <td>False</td>\n",
       "      <td>1480697424</td>\n",
       "      <td>self.learnprogramming</td>\n",
       "      <td>0.0</td>\n",
       "      <td>False</td>\n",
       "      <td>0.0</td>\n",
       "      <td>False</td>\n",
       "      <td>5g4a5p</td>\n",
       "      <td>...</td>\n",
       "      <td>{}</td>\n",
       "      <td>I've written what seems to be a prohibitively ...</td>\n",
       "      <td>False</td>\n",
       "      <td>False</td>\n",
       "      <td>0</td>\n",
       "      <td>t5_2r7yd</td>\n",
       "      <td>self</td>\n",
       "      <td>Optimizing code for speed</td>\n",
       "      <td>23.0</td>\n",
       "      <td>https://www.reddit.com/r/learnprogramming/comm...</td>\n",
       "    </tr>\n",
       "    <tr>\n",
       "      <th>2</th>\n",
       "      <td>False</td>\n",
       "      <td>bookbooksbooks</td>\n",
       "      <td>False</td>\n",
       "      <td>1480697613</td>\n",
       "      <td>self.gamedev</td>\n",
       "      <td>0.0</td>\n",
       "      <td>False</td>\n",
       "      <td>0.0</td>\n",
       "      <td>False</td>\n",
       "      <td>5g4att</td>\n",
       "      <td>...</td>\n",
       "      <td>{}</td>\n",
       "      <td>I'm writing an article called \"Video Games Tha...</td>\n",
       "      <td>False</td>\n",
       "      <td>False</td>\n",
       "      <td>0</td>\n",
       "      <td>t5_2qi0a</td>\n",
       "      <td>self</td>\n",
       "      <td>Seeking Tales of Development Woe (and Triumph)...</td>\n",
       "      <td>12.0</td>\n",
       "      <td>https://www.reddit.com/r/gamedev/comments/5g4a...</td>\n",
       "    </tr>\n",
       "    <tr>\n",
       "      <th>3</th>\n",
       "      <td>False</td>\n",
       "      <td>[deleted]</td>\n",
       "      <td>False</td>\n",
       "      <td>1480697634</td>\n",
       "      <td>self.learnprogramming</td>\n",
       "      <td>0.0</td>\n",
       "      <td>1480698462</td>\n",
       "      <td>0.0</td>\n",
       "      <td>False</td>\n",
       "      <td>5g4awr</td>\n",
       "      <td>...</td>\n",
       "      <td>{}</td>\n",
       "      <td>[deleted]</td>\n",
       "      <td>False</td>\n",
       "      <td>False</td>\n",
       "      <td>0</td>\n",
       "      <td>t5_2r7yd</td>\n",
       "      <td>default</td>\n",
       "      <td>[Java] Finding smallest value in an array</td>\n",
       "      <td>0.0</td>\n",
       "      <td>https://www.reddit.com/r/learnprogramming/comm...</td>\n",
       "    </tr>\n",
       "    <tr>\n",
       "      <th>4</th>\n",
       "      <td>False</td>\n",
       "      <td>caffeine_potent</td>\n",
       "      <td>False</td>\n",
       "      <td>1480697748</td>\n",
       "      <td>self.learnpython</td>\n",
       "      <td>0.0</td>\n",
       "      <td>1480709138</td>\n",
       "      <td>0.0</td>\n",
       "      <td>False</td>\n",
       "      <td>5g4bcr</td>\n",
       "      <td>...</td>\n",
       "      <td>{}</td>\n",
       "      <td>I have the following representation of argumen...</td>\n",
       "      <td>False</td>\n",
       "      <td>False</td>\n",
       "      <td>0</td>\n",
       "      <td>t5_2r8ot</td>\n",
       "      <td>self</td>\n",
       "      <td>currying functions using functools</td>\n",
       "      <td>6.0</td>\n",
       "      <td>https://www.reddit.com/r/learnpython/comments/...</td>\n",
       "    </tr>\n",
       "  </tbody>\n",
       "</table>\n",
       "<p>5 rows × 31 columns</p>\n",
       "</div>"
      ],
      "text/plain": [
       "   archived           author  contest_mode  created_utc  \\\n",
       "0     False   johnnyawesome0         False   1480697304   \n",
       "1     False     Silverfin113         False   1480697424   \n",
       "2     False   bookbooksbooks         False   1480697613   \n",
       "3     False        [deleted]         False   1480697634   \n",
       "4     False  caffeine_potent         False   1480697748   \n",
       "\n",
       "                  domain  downs      edited  gilded  hide_score      id  \\\n",
       "0       self.techsupport    0.0       False     0.0       False  5g49s2   \n",
       "1  self.learnprogramming    0.0       False     0.0       False  5g4a5p   \n",
       "2           self.gamedev    0.0       False     0.0       False  5g4att   \n",
       "3  self.learnprogramming    0.0  1480698462     0.0       False  5g4awr   \n",
       "4       self.learnpython    0.0  1480709138     0.0       False  5g4bcr   \n",
       "\n",
       "                         ...                          secure_media_embed  \\\n",
       "0                        ...                                          {}   \n",
       "1                        ...                                          {}   \n",
       "2                        ...                                          {}   \n",
       "3                        ...                                          {}   \n",
       "4                        ...                                          {}   \n",
       "\n",
       "                                            selftext spoiler stickied  \\\n",
       "0  I have a Sony surround sound system for a blu-...   False    False   \n",
       "1  I've written what seems to be a prohibitively ...   False    False   \n",
       "2  I'm writing an article called \"Video Games Tha...   False    False   \n",
       "3                                          [deleted]   False    False   \n",
       "4  I have the following representation of argumen...   False    False   \n",
       "\n",
       "   subreddit  subreddit_id thumbnail  \\\n",
       "0          1      t5_2qioo      self   \n",
       "1          0      t5_2r7yd      self   \n",
       "2          0      t5_2qi0a      self   \n",
       "3          0      t5_2r7yd   default   \n",
       "4          0      t5_2r8ot      self   \n",
       "\n",
       "                                               title   ups  \\\n",
       "0                             Help with audio set-up   1.0   \n",
       "1                          Optimizing code for speed  23.0   \n",
       "2  Seeking Tales of Development Woe (and Triumph)...  12.0   \n",
       "3          [Java] Finding smallest value in an array   0.0   \n",
       "4                 currying functions using functools   6.0   \n",
       "\n",
       "                                                 url  \n",
       "0  https://www.reddit.com/r/techsupport/comments/...  \n",
       "1  https://www.reddit.com/r/learnprogramming/comm...  \n",
       "2  https://www.reddit.com/r/gamedev/comments/5g4a...  \n",
       "3  https://www.reddit.com/r/learnprogramming/comm...  \n",
       "4  https://www.reddit.com/r/learnpython/comments/...  \n",
       "\n",
       "[5 rows x 31 columns]"
      ]
     },
     "execution_count": 101,
     "metadata": {},
     "output_type": "execute_result"
    }
   ],
   "source": [
    "df.head() # Displays the first 5 rows of the dataset"
   ]
  },
  {
   "cell_type": "code",
   "execution_count": 102,
   "metadata": {},
   "outputs": [
    {
     "data": {
      "text/plain": [
       "Index(['archived', 'author', 'contest_mode', 'created_utc', 'domain', 'downs',\n",
       "       'edited', 'gilded', 'hide_score', 'id', 'is_self', 'locked',\n",
       "       'media_embed', 'name', 'num_comments', 'over_18', 'permalink',\n",
       "       'quarantine', 'retrieved_on', 'saved', 'score', 'secure_media_embed',\n",
       "       'selftext', 'spoiler', 'stickied', 'subreddit', 'subreddit_id',\n",
       "       'thumbnail', 'title', 'ups', 'url'],\n",
       "      dtype='object')"
      ]
     },
     "execution_count": 102,
     "metadata": {},
     "output_type": "execute_result"
    }
   ],
   "source": [
    "df.columns"
   ]
  },
  {
   "cell_type": "code",
   "execution_count": 104,
   "metadata": {},
   "outputs": [
    {
     "data": {
      "text/plain": [
       "<matplotlib.axes._subplots.AxesSubplot at 0x1b35344ef0>"
      ]
     },
     "execution_count": 104,
     "metadata": {},
     "output_type": "execute_result"
    },
    {
     "data": {
      "image/png": "[encoded data removed]",
      "text/plain": [
       "<matplotlib.figure.Figure at 0x1a229b5c50>"
      ]
     },
     "metadata": {},
     "output_type": "display_data"
    }
   ],
   "source": [
    "sns.countplot(x='score',data=df, palette='hls')"
   ]
  },
  {
   "cell_type": "code",
   "execution_count": 105,
   "metadata": {},
   "outputs": [
    {
     "data": {
      "text/plain": [
       "<matplotlib.axes._subplots.AxesSubplot at 0x1b364edfd0>"
      ]
     },
     "execution_count": 105,
     "metadata": {},
     "output_type": "execute_result"
    },
    {
     "data": {
      "image/png": "[encoded data removed]",
      "text/plain": [
       "<matplotlib.figure.Figure at 0x1b348bb9b0>"
      ]
     },
     "metadata": {},
     "output_type": "display_data"
    }
   ],
   "source": [
    "sns.countplot(x='num_comments',data=df, palette='hls')"
   ]
  },
  {
   "cell_type": "code",
   "execution_count": 109,
   "metadata": {
    "collapsed": true
   },
   "outputs": [],
   "source": [
    "df1 = df[['subreddit','title','url']] # Creating a new dataframe with fewer, relevant features"
   ]
  },
  {
   "cell_type": "code",
   "execution_count": 110,
   "metadata": {},
   "outputs": [
    {
     "data": {
      "text/html": [
       "<div>\n",
       "<style>\n",
       "    .dataframe thead tr:only-child th {\n",
       "        text-align: right;\n",
       "    }\n",
       "\n",
       "    .dataframe thead th {\n",
       "        text-align: left;\n",
       "    }\n",
       "\n",
       "    .dataframe tbody tr th {\n",
       "        vertical-align: top;\n",
       "    }\n",
       "</style>\n",
       "<table border=\"1\" class=\"dataframe\">\n",
       "  <thead>\n",
       "    <tr style=\"text-align: right;\">\n",
       "      <th></th>\n",
       "      <th>subreddit</th>\n",
       "      <th>title</th>\n",
       "      <th>url</th>\n",
       "    </tr>\n",
       "  </thead>\n",
       "  <tbody>\n",
       "    <tr>\n",
       "      <th>0</th>\n",
       "      <td>1</td>\n",
       "      <td>Help with audio set-up</td>\n",
       "      <td>https://www.reddit.com/r/techsupport/comments/...</td>\n",
       "    </tr>\n",
       "    <tr>\n",
       "      <th>1</th>\n",
       "      <td>0</td>\n",
       "      <td>Optimizing code for speed</td>\n",
       "      <td>https://www.reddit.com/r/learnprogramming/comm...</td>\n",
       "    </tr>\n",
       "    <tr>\n",
       "      <th>2</th>\n",
       "      <td>0</td>\n",
       "      <td>Seeking Tales of Development Woe (and Triumph)...</td>\n",
       "      <td>https://www.reddit.com/r/gamedev/comments/5g4a...</td>\n",
       "    </tr>\n",
       "    <tr>\n",
       "      <th>3</th>\n",
       "      <td>0</td>\n",
       "      <td>[Java] Finding smallest value in an array</td>\n",
       "      <td>https://www.reddit.com/r/learnprogramming/comm...</td>\n",
       "    </tr>\n",
       "    <tr>\n",
       "      <th>4</th>\n",
       "      <td>0</td>\n",
       "      <td>currying functions using functools</td>\n",
       "      <td>https://www.reddit.com/r/learnpython/comments/...</td>\n",
       "    </tr>\n",
       "  </tbody>\n",
       "</table>\n",
       "</div>"
      ],
      "text/plain": [
       "   subreddit                                              title  \\\n",
       "0          1                             Help with audio set-up   \n",
       "1          0                          Optimizing code for speed   \n",
       "2          0  Seeking Tales of Development Woe (and Triumph)...   \n",
       "3          0          [Java] Finding smallest value in an array   \n",
       "4          0                 currying functions using functools   \n",
       "\n",
       "                                                 url  \n",
       "0  https://www.reddit.com/r/techsupport/comments/...  \n",
       "1  https://www.reddit.com/r/learnprogramming/comm...  \n",
       "2  https://www.reddit.com/r/gamedev/comments/5g4a...  \n",
       "3  https://www.reddit.com/r/learnprogramming/comm...  \n",
       "4  https://www.reddit.com/r/learnpython/comments/...  "
      ]
     },
     "execution_count": 110,
     "metadata": {},
     "output_type": "execute_result"
    }
   ],
   "source": [
    "df1.head() # displaying the first 5 rows of the new dataset"
   ]
  },
  {
   "cell_type": "markdown",
   "metadata": {},
   "source": [
    "### Defining a function to remove the punctuation of the colums in the dataset"
   ]
  },
  {
   "cell_type": "code",
   "execution_count": 111,
   "metadata": {
    "collapsed": true
   },
   "outputs": [],
   "source": [
    "def remove_punctuation(text):\n",
    "    lower = text.lower()\n",
    "    exclude = set(string.punctuation)\n",
    "    return \"\".join(ch for ch in lower if ch not in exclude)"
   ]
  },
  {
   "cell_type": "markdown",
   "metadata": {},
   "source": [
    "#### Applying the remove_punctuation() function to the Title column of the dataset"
   ]
  },
  {
   "cell_type": "code",
   "execution_count": 112,
   "metadata": {},
   "outputs": [
    {
     "name": "stderr",
     "output_type": "stream",
     "text": [
      "/Users/shilpi/anaconda3/lib/python3.6/site-packages/ipykernel_launcher.py:1: SettingWithCopyWarning: \n",
      "A value is trying to be set on a copy of a slice from a DataFrame.\n",
      "Try using .loc[row_indexer,col_indexer] = value instead\n",
      "\n",
      "See the caveats in the documentation: http://pandas.pydata.org/pandas-docs/stable/indexing.html#indexing-view-versus-copy\n",
      "  \"\"\"Entry point for launching an IPython kernel.\n"
     ]
    }
   ],
   "source": [
    "df1['processed_text'] = df1['title'].apply(remove_punctuation)"
   ]
  },
  {
   "cell_type": "code",
   "execution_count": 113,
   "metadata": {},
   "outputs": [
    {
     "data": {
      "text/html": [
       "<div>\n",
       "<style>\n",
       "    .dataframe thead tr:only-child th {\n",
       "        text-align: right;\n",
       "    }\n",
       "\n",
       "    .dataframe thead th {\n",
       "        text-align: left;\n",
       "    }\n",
       "\n",
       "    .dataframe tbody tr th {\n",
       "        vertical-align: top;\n",
       "    }\n",
       "</style>\n",
       "<table border=\"1\" class=\"dataframe\">\n",
       "  <thead>\n",
       "    <tr style=\"text-align: right;\">\n",
       "      <th></th>\n",
       "      <th>subreddit</th>\n",
       "      <th>title</th>\n",
       "      <th>url</th>\n",
       "      <th>processed_text</th>\n",
       "    </tr>\n",
       "  </thead>\n",
       "  <tbody>\n",
       "    <tr>\n",
       "      <th>0</th>\n",
       "      <td>1</td>\n",
       "      <td>Help with audio set-up</td>\n",
       "      <td>https://www.reddit.com/r/techsupport/comments/...</td>\n",
       "      <td>help with audio setup</td>\n",
       "    </tr>\n",
       "    <tr>\n",
       "      <th>1</th>\n",
       "      <td>0</td>\n",
       "      <td>Optimizing code for speed</td>\n",
       "      <td>https://www.reddit.com/r/learnprogramming/comm...</td>\n",
       "      <td>optimizing code for speed</td>\n",
       "    </tr>\n",
       "    <tr>\n",
       "      <th>2</th>\n",
       "      <td>0</td>\n",
       "      <td>Seeking Tales of Development Woe (and Triumph)...</td>\n",
       "      <td>https://www.reddit.com/r/gamedev/comments/5g4a...</td>\n",
       "      <td>seeking tales of development woe and triumph f...</td>\n",
       "    </tr>\n",
       "    <tr>\n",
       "      <th>3</th>\n",
       "      <td>0</td>\n",
       "      <td>[Java] Finding smallest value in an array</td>\n",
       "      <td>https://www.reddit.com/r/learnprogramming/comm...</td>\n",
       "      <td>java finding smallest value in an array</td>\n",
       "    </tr>\n",
       "    <tr>\n",
       "      <th>4</th>\n",
       "      <td>0</td>\n",
       "      <td>currying functions using functools</td>\n",
       "      <td>https://www.reddit.com/r/learnpython/comments/...</td>\n",
       "      <td>currying functions using functools</td>\n",
       "    </tr>\n",
       "  </tbody>\n",
       "</table>\n",
       "</div>"
      ],
      "text/plain": [
       "   subreddit                                              title  \\\n",
       "0          1                             Help with audio set-up   \n",
       "1          0                          Optimizing code for speed   \n",
       "2          0  Seeking Tales of Development Woe (and Triumph)...   \n",
       "3          0          [Java] Finding smallest value in an array   \n",
       "4          0                 currying functions using functools   \n",
       "\n",
       "                                                 url  \\\n",
       "0  https://www.reddit.com/r/techsupport/comments/...   \n",
       "1  https://www.reddit.com/r/learnprogramming/comm...   \n",
       "2  https://www.reddit.com/r/gamedev/comments/5g4a...   \n",
       "3  https://www.reddit.com/r/learnprogramming/comm...   \n",
       "4  https://www.reddit.com/r/learnpython/comments/...   \n",
       "\n",
       "                                      processed_text  \n",
       "0                              help with audio setup  \n",
       "1                          optimizing code for speed  \n",
       "2  seeking tales of development woe and triumph f...  \n",
       "3            java finding smallest value in an array  \n",
       "4                 currying functions using functools  "
      ]
     },
     "execution_count": 113,
     "metadata": {},
     "output_type": "execute_result"
    }
   ],
   "source": [
    "df1.head() #  Displays the dataset with the new column(processed_text) which has the punctuation removed"
   ]
  },
  {
   "cell_type": "markdown",
   "metadata": {},
   "source": [
    "#### Defining the function remove_stopwords() which removes all the stopwords in the English language"
   ]
  },
  {
   "cell_type": "code",
   "execution_count": 114,
   "metadata": {
    "collapsed": true
   },
   "outputs": [],
   "source": [
    "def remove_stopwords(x):\n",
    "    lower = x.lower()\n",
    "    split = lower.split()\n",
    "    final = ''\n",
    "    for i in split:\n",
    "        if i not in stopwords.words('english'):\n",
    "            final += (i + \" \")\n",
    "    return final"
   ]
  },
  {
   "cell_type": "markdown",
   "metadata": {},
   "source": [
    "#### Applying the remove_stopwords() function to the processed_text column of the dataset"
   ]
  },
  {
   "cell_type": "code",
   "execution_count": 115,
   "metadata": {},
   "outputs": [
    {
     "name": "stderr",
     "output_type": "stream",
     "text": [
      "/Users/shilpi/anaconda3/lib/python3.6/site-packages/ipykernel_launcher.py:1: SettingWithCopyWarning: \n",
      "A value is trying to be set on a copy of a slice from a DataFrame.\n",
      "Try using .loc[row_indexer,col_indexer] = value instead\n",
      "\n",
      "See the caveats in the documentation: http://pandas.pydata.org/pandas-docs/stable/indexing.html#indexing-view-versus-copy\n",
      "  \"\"\"Entry point for launching an IPython kernel.\n"
     ]
    }
   ],
   "source": [
    "df1['processed_text1'] = df1['processed_text'].apply(remove_stopwords)"
   ]
  },
  {
   "cell_type": "code",
   "execution_count": 116,
   "metadata": {},
   "outputs": [
    {
     "data": {
      "text/html": [
       "<div>\n",
       "<style>\n",
       "    .dataframe thead tr:only-child th {\n",
       "        text-align: right;\n",
       "    }\n",
       "\n",
       "    .dataframe thead th {\n",
       "        text-align: left;\n",
       "    }\n",
       "\n",
       "    .dataframe tbody tr th {\n",
       "        vertical-align: top;\n",
       "    }\n",
       "</style>\n",
       "<table border=\"1\" class=\"dataframe\">\n",
       "  <thead>\n",
       "    <tr style=\"text-align: right;\">\n",
       "      <th></th>\n",
       "      <th>subreddit</th>\n",
       "      <th>title</th>\n",
       "      <th>url</th>\n",
       "      <th>processed_text</th>\n",
       "      <th>processed_text1</th>\n",
       "    </tr>\n",
       "  </thead>\n",
       "  <tbody>\n",
       "    <tr>\n",
       "      <th>0</th>\n",
       "      <td>1</td>\n",
       "      <td>Help with audio set-up</td>\n",
       "      <td>https://www.reddit.com/r/techsupport/comments/...</td>\n",
       "      <td>help with audio setup</td>\n",
       "      <td>help audio setup</td>\n",
       "    </tr>\n",
       "    <tr>\n",
       "      <th>1</th>\n",
       "      <td>0</td>\n",
       "      <td>Optimizing code for speed</td>\n",
       "      <td>https://www.reddit.com/r/learnprogramming/comm...</td>\n",
       "      <td>optimizing code for speed</td>\n",
       "      <td>optimizing code speed</td>\n",
       "    </tr>\n",
       "    <tr>\n",
       "      <th>2</th>\n",
       "      <td>0</td>\n",
       "      <td>Seeking Tales of Development Woe (and Triumph)...</td>\n",
       "      <td>https://www.reddit.com/r/gamedev/comments/5g4a...</td>\n",
       "      <td>seeking tales of development woe and triumph f...</td>\n",
       "      <td>seeking tales development woe triumph featured...</td>\n",
       "    </tr>\n",
       "    <tr>\n",
       "      <th>3</th>\n",
       "      <td>0</td>\n",
       "      <td>[Java] Finding smallest value in an array</td>\n",
       "      <td>https://www.reddit.com/r/learnprogramming/comm...</td>\n",
       "      <td>java finding smallest value in an array</td>\n",
       "      <td>java finding smallest value array</td>\n",
       "    </tr>\n",
       "    <tr>\n",
       "      <th>4</th>\n",
       "      <td>0</td>\n",
       "      <td>currying functions using functools</td>\n",
       "      <td>https://www.reddit.com/r/learnpython/comments/...</td>\n",
       "      <td>currying functions using functools</td>\n",
       "      <td>currying functions using functools</td>\n",
       "    </tr>\n",
       "  </tbody>\n",
       "</table>\n",
       "</div>"
      ],
      "text/plain": [
       "   subreddit                                              title  \\\n",
       "0          1                             Help with audio set-up   \n",
       "1          0                          Optimizing code for speed   \n",
       "2          0  Seeking Tales of Development Woe (and Triumph)...   \n",
       "3          0          [Java] Finding smallest value in an array   \n",
       "4          0                 currying functions using functools   \n",
       "\n",
       "                                                 url  \\\n",
       "0  https://www.reddit.com/r/techsupport/comments/...   \n",
       "1  https://www.reddit.com/r/learnprogramming/comm...   \n",
       "2  https://www.reddit.com/r/gamedev/comments/5g4a...   \n",
       "3  https://www.reddit.com/r/learnprogramming/comm...   \n",
       "4  https://www.reddit.com/r/learnpython/comments/...   \n",
       "\n",
       "                                      processed_text  \\\n",
       "0                              help with audio setup   \n",
       "1                          optimizing code for speed   \n",
       "2  seeking tales of development woe and triumph f...   \n",
       "3            java finding smallest value in an array   \n",
       "4                 currying functions using functools   \n",
       "\n",
       "                                     processed_text1  \n",
       "0                                  help audio setup   \n",
       "1                             optimizing code speed   \n",
       "2  seeking tales development woe triumph featured...  \n",
       "3                 java finding smallest value array   \n",
       "4                currying functions using functools   "
      ]
     },
     "execution_count": 116,
     "metadata": {},
     "output_type": "execute_result"
    }
   ],
   "source": [
    "df1.head()  #Displays the dataset with the new column(processed_text1) which has the stopwords removed"
   ]
  },
  {
   "cell_type": "code",
   "execution_count": 117,
   "metadata": {
    "collapsed": true
   },
   "outputs": [],
   "source": [
    "stemmer = PorterStemmer() # Initializing Porter Stemmer "
   ]
  },
  {
   "cell_type": "code",
   "execution_count": 118,
   "metadata": {
    "collapsed": true
   },
   "outputs": [],
   "source": [
    "def split_and_stem(string):\n",
    "    string = string.split(' ')\n",
    "    temp = \"\"\n",
    "    for i in string:\n",
    "        temp += (stemmer.stem(i) + \" \")\n",
    "    return temp"
   ]
  },
  {
   "cell_type": "code",
   "execution_count": 119,
   "metadata": {},
   "outputs": [
    {
     "name": "stderr",
     "output_type": "stream",
     "text": [
      "/Users/shilpi/anaconda3/lib/python3.6/site-packages/ipykernel_launcher.py:1: SettingWithCopyWarning: \n",
      "A value is trying to be set on a copy of a slice from a DataFrame.\n",
      "Try using .loc[row_indexer,col_indexer] = value instead\n",
      "\n",
      "See the caveats in the documentation: http://pandas.pydata.org/pandas-docs/stable/indexing.html#indexing-view-versus-copy\n",
      "  \"\"\"Entry point for launching an IPython kernel.\n"
     ]
    }
   ],
   "source": [
    "df1['processed_text2'] = df1['processed_text1'].apply(split_and_stem)"
   ]
  },
  {
   "cell_type": "code",
   "execution_count": 120,
   "metadata": {},
   "outputs": [
    {
     "data": {
      "text/html": [
       "<div>\n",
       "<style>\n",
       "    .dataframe thead tr:only-child th {\n",
       "        text-align: right;\n",
       "    }\n",
       "\n",
       "    .dataframe thead th {\n",
       "        text-align: left;\n",
       "    }\n",
       "\n",
       "    .dataframe tbody tr th {\n",
       "        vertical-align: top;\n",
       "    }\n",
       "</style>\n",
       "<table border=\"1\" class=\"dataframe\">\n",
       "  <thead>\n",
       "    <tr style=\"text-align: right;\">\n",
       "      <th></th>\n",
       "      <th>subreddit</th>\n",
       "      <th>title</th>\n",
       "      <th>url</th>\n",
       "      <th>processed_text</th>\n",
       "      <th>processed_text1</th>\n",
       "      <th>processed_text2</th>\n",
       "    </tr>\n",
       "  </thead>\n",
       "  <tbody>\n",
       "    <tr>\n",
       "      <th>0</th>\n",
       "      <td>1</td>\n",
       "      <td>Help with audio set-up</td>\n",
       "      <td>https://www.reddit.com/r/techsupport/comments/...</td>\n",
       "      <td>help with audio setup</td>\n",
       "      <td>help audio setup</td>\n",
       "      <td>help audio setup</td>\n",
       "    </tr>\n",
       "    <tr>\n",
       "      <th>1</th>\n",
       "      <td>0</td>\n",
       "      <td>Optimizing code for speed</td>\n",
       "      <td>https://www.reddit.com/r/learnprogramming/comm...</td>\n",
       "      <td>optimizing code for speed</td>\n",
       "      <td>optimizing code speed</td>\n",
       "      <td>optim code speed</td>\n",
       "    </tr>\n",
       "    <tr>\n",
       "      <th>2</th>\n",
       "      <td>0</td>\n",
       "      <td>Seeking Tales of Development Woe (and Triumph)...</td>\n",
       "      <td>https://www.reddit.com/r/gamedev/comments/5g4a...</td>\n",
       "      <td>seeking tales of development woe and triumph f...</td>\n",
       "      <td>seeking tales development woe triumph featured...</td>\n",
       "      <td>seek tale develop woe triumph featur articl</td>\n",
       "    </tr>\n",
       "    <tr>\n",
       "      <th>3</th>\n",
       "      <td>0</td>\n",
       "      <td>[Java] Finding smallest value in an array</td>\n",
       "      <td>https://www.reddit.com/r/learnprogramming/comm...</td>\n",
       "      <td>java finding smallest value in an array</td>\n",
       "      <td>java finding smallest value array</td>\n",
       "      <td>java find smallest valu array</td>\n",
       "    </tr>\n",
       "    <tr>\n",
       "      <th>4</th>\n",
       "      <td>0</td>\n",
       "      <td>currying functions using functools</td>\n",
       "      <td>https://www.reddit.com/r/learnpython/comments/...</td>\n",
       "      <td>currying functions using functools</td>\n",
       "      <td>currying functions using functools</td>\n",
       "      <td>curri function use functool</td>\n",
       "    </tr>\n",
       "  </tbody>\n",
       "</table>\n",
       "</div>"
      ],
      "text/plain": [
       "   subreddit                                              title  \\\n",
       "0          1                             Help with audio set-up   \n",
       "1          0                          Optimizing code for speed   \n",
       "2          0  Seeking Tales of Development Woe (and Triumph)...   \n",
       "3          0          [Java] Finding smallest value in an array   \n",
       "4          0                 currying functions using functools   \n",
       "\n",
       "                                                 url  \\\n",
       "0  https://www.reddit.com/r/techsupport/comments/...   \n",
       "1  https://www.reddit.com/r/learnprogramming/comm...   \n",
       "2  https://www.reddit.com/r/gamedev/comments/5g4a...   \n",
       "3  https://www.reddit.com/r/learnprogramming/comm...   \n",
       "4  https://www.reddit.com/r/learnpython/comments/...   \n",
       "\n",
       "                                      processed_text  \\\n",
       "0                              help with audio setup   \n",
       "1                          optimizing code for speed   \n",
       "2  seeking tales of development woe and triumph f...   \n",
       "3            java finding smallest value in an array   \n",
       "4                 currying functions using functools   \n",
       "\n",
       "                                     processed_text1  \\\n",
       "0                                  help audio setup    \n",
       "1                             optimizing code speed    \n",
       "2  seeking tales development woe triumph featured...   \n",
       "3                 java finding smallest value array    \n",
       "4                currying functions using functools    \n",
       "\n",
       "                                 processed_text2  \n",
       "0                             help audio setup    \n",
       "1                             optim code speed    \n",
       "2  seek tale develop woe triumph featur articl    \n",
       "3                java find smallest valu array    \n",
       "4                  curri function use functool    "
      ]
     },
     "execution_count": 120,
     "metadata": {},
     "output_type": "execute_result"
    }
   ],
   "source": [
    "df1.head()  #Displays the dataset with the new column(processed_text2) which has the root words"
   ]
  },
  {
   "cell_type": "markdown",
   "metadata": {},
   "source": [
    "#### Assigning the X and y values to be worked upon"
   ]
  },
  {
   "cell_type": "code",
   "execution_count": 121,
   "metadata": {
    "collapsed": true
   },
   "outputs": [],
   "source": [
    "X = df1['processed_text2']\n",
    "y = df1['subreddit'] # Target variable"
   ]
  },
  {
   "cell_type": "markdown",
   "metadata": {},
   "source": [
    "#### Train Test Split"
   ]
  },
  {
   "cell_type": "code",
   "execution_count": 122,
   "metadata": {
    "collapsed": true
   },
   "outputs": [],
   "source": [
    "X_train,X_test,y_train,y_test = train_test_split(X,y,test_size=0.33)"
   ]
  },
  {
   "cell_type": "markdown",
   "metadata": {},
   "source": [
    "#### Count Vectorizer "
   ]
  },
  {
   "cell_type": "code",
   "execution_count": 123,
   "metadata": {
    "collapsed": true
   },
   "outputs": [],
   "source": [
    "cvec = CountVectorizer()"
   ]
  },
  {
   "cell_type": "code",
   "execution_count": 124,
   "metadata": {
    "collapsed": true
   },
   "outputs": [],
   "source": [
    "df_train  = pd.DataFrame(cvec.fit_transform(X_train).todense(),\n",
    "             columns=cvec.get_feature_names())"
   ]
  },
  {
   "cell_type": "code",
   "execution_count": 125,
   "metadata": {},
   "outputs": [
    {
     "data": {
      "text/html": [
       "<div>\n",
       "<style>\n",
       "    .dataframe thead tr:only-child th {\n",
       "        text-align: right;\n",
       "    }\n",
       "\n",
       "    .dataframe thead th {\n",
       "        text-align: left;\n",
       "    }\n",
       "\n",
       "    .dataframe tbody tr th {\n",
       "        vertical-align: top;\n",
       "    }\n",
       "</style>\n",
       "<table border=\"1\" class=\"dataframe\">\n",
       "  <thead>\n",
       "    <tr style=\"text-align: right;\">\n",
       "      <th></th>\n",
       "      <th>00</th>\n",
       "      <th>000</th>\n",
       "      <th>000nan</th>\n",
       "      <th>001</th>\n",
       "      <th>01</th>\n",
       "      <th>0111</th>\n",
       "      <th>0123</th>\n",
       "      <th>02</th>\n",
       "      <th>02610</th>\n",
       "      <th>03</th>\n",
       "      <th>...</th>\n",
       "      <th>کداک</th>\n",
       "      <th>کپی</th>\n",
       "      <th>જર</th>\n",
       "      <th>𝓘𝓰𝓷𝓸𝓻𝓮</th>\n",
       "      <th>𝓲𝓼</th>\n",
       "      <th>𝓲𝓽</th>\n",
       "      <th>𝓸𝓷𝓵𝔂</th>\n",
       "      <th>𝓹𝓵𝓮𝓪𝓼𝓮</th>\n",
       "      <th>𝓽𝓮𝓼𝓽</th>\n",
       "      <th>𝓽𝓱𝓲𝓼</th>\n",
       "    </tr>\n",
       "  </thead>\n",
       "  <tbody>\n",
       "    <tr>\n",
       "      <th>0</th>\n",
       "      <td>0</td>\n",
       "      <td>0</td>\n",
       "      <td>0</td>\n",
       "      <td>0</td>\n",
       "      <td>0</td>\n",
       "      <td>0</td>\n",
       "      <td>0</td>\n",
       "      <td>0</td>\n",
       "      <td>0</td>\n",
       "      <td>0</td>\n",
       "      <td>...</td>\n",
       "      <td>0</td>\n",
       "      <td>0</td>\n",
       "      <td>0</td>\n",
       "      <td>0</td>\n",
       "      <td>0</td>\n",
       "      <td>0</td>\n",
       "      <td>0</td>\n",
       "      <td>0</td>\n",
       "      <td>0</td>\n",
       "      <td>0</td>\n",
       "    </tr>\n",
       "    <tr>\n",
       "      <th>1</th>\n",
       "      <td>0</td>\n",
       "      <td>0</td>\n",
       "      <td>0</td>\n",
       "      <td>0</td>\n",
       "      <td>0</td>\n",
       "      <td>0</td>\n",
       "      <td>0</td>\n",
       "      <td>0</td>\n",
       "      <td>0</td>\n",
       "      <td>0</td>\n",
       "      <td>...</td>\n",
       "      <td>0</td>\n",
       "      <td>0</td>\n",
       "      <td>0</td>\n",
       "      <td>0</td>\n",
       "      <td>0</td>\n",
       "      <td>0</td>\n",
       "      <td>0</td>\n",
       "      <td>0</td>\n",
       "      <td>0</td>\n",
       "      <td>0</td>\n",
       "    </tr>\n",
       "    <tr>\n",
       "      <th>2</th>\n",
       "      <td>0</td>\n",
       "      <td>0</td>\n",
       "      <td>0</td>\n",
       "      <td>0</td>\n",
       "      <td>0</td>\n",
       "      <td>0</td>\n",
       "      <td>0</td>\n",
       "      <td>0</td>\n",
       "      <td>0</td>\n",
       "      <td>0</td>\n",
       "      <td>...</td>\n",
       "      <td>0</td>\n",
       "      <td>0</td>\n",
       "      <td>0</td>\n",
       "      <td>0</td>\n",
       "      <td>0</td>\n",
       "      <td>0</td>\n",
       "      <td>0</td>\n",
       "      <td>0</td>\n",
       "      <td>0</td>\n",
       "      <td>0</td>\n",
       "    </tr>\n",
       "    <tr>\n",
       "      <th>3</th>\n",
       "      <td>0</td>\n",
       "      <td>0</td>\n",
       "      <td>0</td>\n",
       "      <td>0</td>\n",
       "      <td>0</td>\n",
       "      <td>0</td>\n",
       "      <td>0</td>\n",
       "      <td>0</td>\n",
       "      <td>0</td>\n",
       "      <td>0</td>\n",
       "      <td>...</td>\n",
       "      <td>0</td>\n",
       "      <td>0</td>\n",
       "      <td>0</td>\n",
       "      <td>0</td>\n",
       "      <td>0</td>\n",
       "      <td>0</td>\n",
       "      <td>0</td>\n",
       "      <td>0</td>\n",
       "      <td>0</td>\n",
       "      <td>0</td>\n",
       "    </tr>\n",
       "    <tr>\n",
       "      <th>4</th>\n",
       "      <td>0</td>\n",
       "      <td>0</td>\n",
       "      <td>0</td>\n",
       "      <td>0</td>\n",
       "      <td>0</td>\n",
       "      <td>0</td>\n",
       "      <td>0</td>\n",
       "      <td>0</td>\n",
       "      <td>0</td>\n",
       "      <td>0</td>\n",
       "      <td>...</td>\n",
       "      <td>0</td>\n",
       "      <td>0</td>\n",
       "      <td>0</td>\n",
       "      <td>0</td>\n",
       "      <td>0</td>\n",
       "      <td>0</td>\n",
       "      <td>0</td>\n",
       "      <td>0</td>\n",
       "      <td>0</td>\n",
       "      <td>0</td>\n",
       "    </tr>\n",
       "  </tbody>\n",
       "</table>\n",
       "<p>5 rows × 12243 columns</p>\n",
       "</div>"
      ],
      "text/plain": [
       "   00  000  000nan  001  01  0111  0123  02  02610  03  ...   کداک  کپی  જર  \\\n",
       "0   0    0       0    0   0     0     0   0      0   0  ...      0    0   0   \n",
       "1   0    0       0    0   0     0     0   0      0   0  ...      0    0   0   \n",
       "2   0    0       0    0   0     0     0   0      0   0  ...      0    0   0   \n",
       "3   0    0       0    0   0     0     0   0      0   0  ...      0    0   0   \n",
       "4   0    0       0    0   0     0     0   0      0   0  ...      0    0   0   \n",
       "\n",
       "   𝓘𝓰𝓷𝓸𝓻𝓮  𝓲𝓼  𝓲𝓽  𝓸𝓷𝓵𝔂  𝓹𝓵𝓮𝓪𝓼𝓮  𝓽𝓮𝓼𝓽  𝓽𝓱𝓲𝓼  \n",
       "0       0   0   0     0       0     0     0  \n",
       "1       0   0   0     0       0     0     0  \n",
       "2       0   0   0     0       0     0     0  \n",
       "3       0   0   0     0       0     0     0  \n",
       "4       0   0   0     0       0     0     0  \n",
       "\n",
       "[5 rows x 12243 columns]"
      ]
     },
     "execution_count": 125,
     "metadata": {},
     "output_type": "execute_result"
    }
   ],
   "source": [
    "df_train.head()"
   ]
  },
  {
   "cell_type": "code",
   "execution_count": 126,
   "metadata": {
    "collapsed": true
   },
   "outputs": [],
   "source": [
    "df_test = pd.DataFrame(cvec.transform(X_test).todense(),\n",
    "             columns=cvec.get_feature_names())"
   ]
  },
  {
   "cell_type": "code",
   "execution_count": 127,
   "metadata": {},
   "outputs": [
    {
     "data": {
      "text/html": [
       "<div>\n",
       "<style>\n",
       "    .dataframe thead tr:only-child th {\n",
       "        text-align: right;\n",
       "    }\n",
       "\n",
       "    .dataframe thead th {\n",
       "        text-align: left;\n",
       "    }\n",
       "\n",
       "    .dataframe tbody tr th {\n",
       "        vertical-align: top;\n",
       "    }\n",
       "</style>\n",
       "<table border=\"1\" class=\"dataframe\">\n",
       "  <thead>\n",
       "    <tr style=\"text-align: right;\">\n",
       "      <th></th>\n",
       "      <th>00</th>\n",
       "      <th>000</th>\n",
       "      <th>000nan</th>\n",
       "      <th>001</th>\n",
       "      <th>01</th>\n",
       "      <th>0111</th>\n",
       "      <th>0123</th>\n",
       "      <th>02</th>\n",
       "      <th>02610</th>\n",
       "      <th>03</th>\n",
       "      <th>...</th>\n",
       "      <th>کداک</th>\n",
       "      <th>کپی</th>\n",
       "      <th>જર</th>\n",
       "      <th>𝓘𝓰𝓷𝓸𝓻𝓮</th>\n",
       "      <th>𝓲𝓼</th>\n",
       "      <th>𝓲𝓽</th>\n",
       "      <th>𝓸𝓷𝓵𝔂</th>\n",
       "      <th>𝓹𝓵𝓮𝓪𝓼𝓮</th>\n",
       "      <th>𝓽𝓮𝓼𝓽</th>\n",
       "      <th>𝓽𝓱𝓲𝓼</th>\n",
       "    </tr>\n",
       "  </thead>\n",
       "  <tbody>\n",
       "    <tr>\n",
       "      <th>0</th>\n",
       "      <td>0</td>\n",
       "      <td>0</td>\n",
       "      <td>0</td>\n",
       "      <td>0</td>\n",
       "      <td>0</td>\n",
       "      <td>0</td>\n",
       "      <td>0</td>\n",
       "      <td>0</td>\n",
       "      <td>0</td>\n",
       "      <td>0</td>\n",
       "      <td>...</td>\n",
       "      <td>0</td>\n",
       "      <td>0</td>\n",
       "      <td>0</td>\n",
       "      <td>0</td>\n",
       "      <td>0</td>\n",
       "      <td>0</td>\n",
       "      <td>0</td>\n",
       "      <td>0</td>\n",
       "      <td>0</td>\n",
       "      <td>0</td>\n",
       "    </tr>\n",
       "    <tr>\n",
       "      <th>1</th>\n",
       "      <td>0</td>\n",
       "      <td>0</td>\n",
       "      <td>0</td>\n",
       "      <td>0</td>\n",
       "      <td>0</td>\n",
       "      <td>0</td>\n",
       "      <td>0</td>\n",
       "      <td>0</td>\n",
       "      <td>0</td>\n",
       "      <td>0</td>\n",
       "      <td>...</td>\n",
       "      <td>0</td>\n",
       "      <td>0</td>\n",
       "      <td>0</td>\n",
       "      <td>0</td>\n",
       "      <td>0</td>\n",
       "      <td>0</td>\n",
       "      <td>0</td>\n",
       "      <td>0</td>\n",
       "      <td>0</td>\n",
       "      <td>0</td>\n",
       "    </tr>\n",
       "    <tr>\n",
       "      <th>2</th>\n",
       "      <td>0</td>\n",
       "      <td>0</td>\n",
       "      <td>0</td>\n",
       "      <td>0</td>\n",
       "      <td>0</td>\n",
       "      <td>0</td>\n",
       "      <td>0</td>\n",
       "      <td>0</td>\n",
       "      <td>0</td>\n",
       "      <td>0</td>\n",
       "      <td>...</td>\n",
       "      <td>0</td>\n",
       "      <td>0</td>\n",
       "      <td>0</td>\n",
       "      <td>0</td>\n",
       "      <td>0</td>\n",
       "      <td>0</td>\n",
       "      <td>0</td>\n",
       "      <td>0</td>\n",
       "      <td>0</td>\n",
       "      <td>0</td>\n",
       "    </tr>\n",
       "    <tr>\n",
       "      <th>3</th>\n",
       "      <td>0</td>\n",
       "      <td>0</td>\n",
       "      <td>0</td>\n",
       "      <td>0</td>\n",
       "      <td>0</td>\n",
       "      <td>0</td>\n",
       "      <td>0</td>\n",
       "      <td>0</td>\n",
       "      <td>0</td>\n",
       "      <td>0</td>\n",
       "      <td>...</td>\n",
       "      <td>0</td>\n",
       "      <td>0</td>\n",
       "      <td>0</td>\n",
       "      <td>0</td>\n",
       "      <td>0</td>\n",
       "      <td>0</td>\n",
       "      <td>0</td>\n",
       "      <td>0</td>\n",
       "      <td>0</td>\n",
       "      <td>0</td>\n",
       "    </tr>\n",
       "    <tr>\n",
       "      <th>4</th>\n",
       "      <td>0</td>\n",
       "      <td>0</td>\n",
       "      <td>0</td>\n",
       "      <td>0</td>\n",
       "      <td>0</td>\n",
       "      <td>0</td>\n",
       "      <td>0</td>\n",
       "      <td>0</td>\n",
       "      <td>0</td>\n",
       "      <td>0</td>\n",
       "      <td>...</td>\n",
       "      <td>0</td>\n",
       "      <td>0</td>\n",
       "      <td>0</td>\n",
       "      <td>0</td>\n",
       "      <td>0</td>\n",
       "      <td>0</td>\n",
       "      <td>0</td>\n",
       "      <td>0</td>\n",
       "      <td>0</td>\n",
       "      <td>0</td>\n",
       "    </tr>\n",
       "  </tbody>\n",
       "</table>\n",
       "<p>5 rows × 12243 columns</p>\n",
       "</div>"
      ],
      "text/plain": [
       "   00  000  000nan  001  01  0111  0123  02  02610  03  ...   کداک  کپی  જર  \\\n",
       "0   0    0       0    0   0     0     0   0      0   0  ...      0    0   0   \n",
       "1   0    0       0    0   0     0     0   0      0   0  ...      0    0   0   \n",
       "2   0    0       0    0   0     0     0   0      0   0  ...      0    0   0   \n",
       "3   0    0       0    0   0     0     0   0      0   0  ...      0    0   0   \n",
       "4   0    0       0    0   0     0     0   0      0   0  ...      0    0   0   \n",
       "\n",
       "   𝓘𝓰𝓷𝓸𝓻𝓮  𝓲𝓼  𝓲𝓽  𝓸𝓷𝓵𝔂  𝓹𝓵𝓮𝓪𝓼𝓮  𝓽𝓮𝓼𝓽  𝓽𝓱𝓲𝓼  \n",
       "0       0   0   0     0       0     0     0  \n",
       "1       0   0   0     0       0     0     0  \n",
       "2       0   0   0     0       0     0     0  \n",
       "3       0   0   0     0       0     0     0  \n",
       "4       0   0   0     0       0     0     0  \n",
       "\n",
       "[5 rows x 12243 columns]"
      ]
     },
     "execution_count": 127,
     "metadata": {},
     "output_type": "execute_result"
    }
   ],
   "source": [
    "df_test.head()"
   ]
  },
  {
   "cell_type": "markdown",
   "metadata": {},
   "source": [
    "# Random Forest Classifier"
   ]
  },
  {
   "cell_type": "code",
   "execution_count": 128,
   "metadata": {
    "collapsed": true
   },
   "outputs": [],
   "source": [
    "rfc = RandomForestClassifier()"
   ]
  },
  {
   "cell_type": "code",
   "execution_count": 129,
   "metadata": {},
   "outputs": [
    {
     "name": "stdout",
     "output_type": "stream",
     "text": [
      "0.990212527964\n",
      "0.875908265213\n",
      "[[10194    42]\n",
      " [  133  7511]]\n",
      "             precision    recall  f1-score   support\n",
      "\n",
      "          0       0.99      1.00      0.99     10236\n",
      "          1       0.99      0.98      0.99      7644\n",
      "\n",
      "avg / total       0.99      0.99      0.99     17880\n",
      "\n"
     ]
    }
   ],
   "source": [
    "rfc.fit(df_train, y_train)\n",
    "print(rfc.score(df_train, y_train))\n",
    "print(rfc.score(df_test,y_test))\n",
    "print(confusion_matrix(y_train, rfc.predict(df_train)))\n",
    "print(classification_report(y_train, rfc.predict(df_train)))\n"
   ]
  },
  {
   "cell_type": "code",
   "execution_count": 130,
   "metadata": {},
   "outputs": [
    {
     "data": {
      "text/plain": [
       "(8808, 12243)"
      ]
     },
     "execution_count": 130,
     "metadata": {},
     "output_type": "execute_result"
    }
   ],
   "source": [
    "df_test.shape"
   ]
  },
  {
   "cell_type": "code",
   "execution_count": 131,
   "metadata": {},
   "outputs": [
    {
     "data": {
      "text/plain": [
       "0.99021252796420578"
      ]
     },
     "execution_count": 131,
     "metadata": {},
     "output_type": "execute_result"
    }
   ],
   "source": [
    "rfc.score(df_train, y_train)"
   ]
  },
  {
   "cell_type": "code",
   "execution_count": 132,
   "metadata": {},
   "outputs": [
    {
     "data": {
      "text/plain": [
       "0.87590826521344234"
      ]
     },
     "execution_count": 132,
     "metadata": {},
     "output_type": "execute_result"
    }
   ],
   "source": [
    "rfc.score(df_test, y_test)"
   ]
  },
  {
   "cell_type": "code",
   "execution_count": 133,
   "metadata": {
    "collapsed": true
   },
   "outputs": [],
   "source": [
    "def run_model(x_train, y_train, x_test, y_test, rfc):\n",
    "    rfc.fit(x_train, y_train)\n",
    "    print(\"Base model score: \" , str(np.mean(y_test))[:6])\n",
    "    print(\"Training set score: \", str(rfc.score(x_train, y_train))[:6])\n",
    "    print (\"Test set score: \", str(rfc.score(x_test, y_test))[:6])\n",
    "    predictions = rfc.predict(x_test)\n",
    "    print (\"\\nConfusion Matrix:\\n\", pd.DataFrame(confusion_matrix(y_test, predictions), \n",
    "                                              columns=['predicted_0', 'predicted_1'], index=['is_0', 'is_1']))\n",
    "    print (\"\\nClassification Report:\\n\",classification_report(y_test, predictions))"
   ]
  },
  {
   "cell_type": "code",
   "execution_count": 134,
   "metadata": {},
   "outputs": [
    {
     "name": "stdout",
     "output_type": "stream",
     "text": [
      "Base model score:  0.4290\n",
      "Training set score:  0.9900\n",
      "Test set score:  0.8806\n",
      "\n",
      "Confusion Matrix:\n",
      "       predicted_0  predicted_1\n",
      "is_0         4591          438\n",
      "is_1          613         3166\n",
      "\n",
      "Classification Report:\n",
      "              precision    recall  f1-score   support\n",
      "\n",
      "          0       0.88      0.91      0.90      5029\n",
      "          1       0.88      0.84      0.86      3779\n",
      "\n",
      "avg / total       0.88      0.88      0.88      8808\n",
      "\n"
     ]
    }
   ],
   "source": [
    "run_model(df_train,y_train,df_test,y_test,rfc)"
   ]
  },
  {
   "cell_type": "code",
   "execution_count": 135,
   "metadata": {
    "collapsed": true
   },
   "outputs": [],
   "source": [
    "rfc_y_score = rfc.predict_proba(df_test)[:,1]"
   ]
  },
  {
   "cell_type": "code",
   "execution_count": 136,
   "metadata": {},
   "outputs": [
    {
     "name": "stdout",
     "output_type": "stream",
     "text": [
      "0.935880519607\n"
     ]
    }
   ],
   "source": [
    "print(roc_auc_score(y_test, rfc_y_score))"
   ]
  },
  {
   "cell_type": "code",
   "execution_count": 137,
   "metadata": {
    "collapsed": true
   },
   "outputs": [],
   "source": [
    "rfc_FPR = dict()\n",
    "rfc_TPR = dict()\n",
    "rfc_ROC_AUC = dict()"
   ]
  },
  {
   "cell_type": "code",
   "execution_count": 138,
   "metadata": {},
   "outputs": [
    {
     "data": {
      "text/plain": [
       "(array([ 0.        ,  0.00994233,  0.00994233,  0.00994233,  0.00994233,\n",
       "         0.01014118,  0.01014118,  0.02366276,  0.02366276,  0.02366276,\n",
       "         0.02366276,  0.02366276,  0.02366276,  0.02366276,  0.02366276,\n",
       "         0.02366276,  0.0387751 ,  0.0387751 ,  0.0387751 ,  0.0387751 ,\n",
       "         0.03897395,  0.0391728 ,  0.0391728 ,  0.03937164,  0.03957049,\n",
       "         0.03976934,  0.03976934,  0.04016703,  0.06184132,  0.06184132,\n",
       "         0.06184132,  0.06223901,  0.06283555,  0.06283555,  0.0630344 ,\n",
       "         0.0630344 ,  0.06323325,  0.08570292,  0.08590177,  0.08590177,\n",
       "         0.08629946,  0.08629946,  0.08649831,  0.08649831,  0.08649831,\n",
       "         0.08669716,  0.08669716,  0.08669716,  0.086896  ,  0.08709485,\n",
       "         0.11871147,  0.11871147,  0.11910917,  0.11910917,  0.11930801,\n",
       "         0.11970571,  0.11990455,  0.12030225,  0.12030225,  0.12050109,\n",
       "         0.12089879,  0.12189302,  0.12189302,  0.12209187,  0.12229071,\n",
       "         0.12268841,  0.12288725,  0.1230861 ,  0.16245775,  0.16265659,\n",
       "         0.16265659,  0.16285544,  0.16285544,  0.16305429,  0.16325313,\n",
       "         0.16325313,  0.16345198,  0.16384967,  0.16404852,  0.16444621,\n",
       "         0.16723007,  0.16723007,  0.16742891,  0.16762776,  0.16882084,\n",
       "         0.16921853,  0.16961623,  0.17041161,  0.17180354,  0.22469676,\n",
       "         0.2252933 ,  0.22549215,  0.22549215,  0.22588984,  0.22628753,\n",
       "         0.22668523,  0.22708292,  0.22767946,  0.22767946,  0.22807715,\n",
       "         0.22847485,  0.22887254,  0.22927023,  0.23006562,  0.23066216,\n",
       "         0.23066216,  0.23086101,  0.23145755,  0.23165639,  0.23165639,\n",
       "         0.23185524,  0.23185524,  0.23225293,  0.23284947,  0.23304832,\n",
       "         0.23304832,  0.23324717,  0.23444025,  0.23463909,  0.23503679,\n",
       "         0.32292702,  0.32312587,  0.32312587,  0.32431895,  0.32431895,\n",
       "         0.32431895,  0.32471664,  0.32471664,  0.32630742,  0.32670511,\n",
       "         0.32670511,  0.32690396,  0.32829588,  0.32869358,  0.32909127,\n",
       "         0.32929012,  0.32988666,  0.3300855 ,  0.33366474,  0.33426128,\n",
       "         0.33446013,  0.33465898,  0.33525552,  0.33545436,  0.33624975,\n",
       "         0.33684629,  0.49413402,  0.49453172,  0.49473056,  0.49512826,\n",
       "         0.49552595,  0.49632134,  0.49671903,  0.4987075 ,  0.49930404,\n",
       "         0.49930404,  0.49970173,  0.50069596,  0.50149135,  0.50328097,\n",
       "         0.50328097,  0.50407636,  0.5042752 ,  1.        ]),\n",
       " array([ 0.        ,  0.3694099 ,  0.36967452,  0.37179148,  0.37311458,\n",
       "         0.3733792 ,  0.37364382,  0.57422599,  0.57449061,  0.57501985,\n",
       "         0.57607833,  0.57634295,  0.57687219,  0.57713681,  0.57793067,\n",
       "         0.57845991,  0.71077004,  0.71103467,  0.71235777,  0.71394549,\n",
       "         0.71394549,  0.71447473,  0.71500397,  0.71500397,  0.71579783,\n",
       "         0.71579783,  0.71632707,  0.71632707,  0.78565758,  0.78645144,\n",
       "         0.78698068,  0.78777454,  0.78803916,  0.78830378,  0.7885684 ,\n",
       "         0.78883302,  0.78883302,  0.83408309,  0.83408309,  0.83434771,\n",
       "         0.83461233,  0.83487695,  0.83514157,  0.83567081,  0.83593543,\n",
       "         0.83593543,  0.83672929,  0.83725853,  0.83725853,  0.83752315,\n",
       "         0.87456999,  0.87483461,  0.87483461,  0.87509923,  0.87509923,\n",
       "         0.87562847,  0.87562847,  0.87668695,  0.87695157,  0.87721619,\n",
       "         0.87721619,  0.87801006,  0.87827468,  0.87827468,  0.8785393 ,\n",
       "         0.87880392,  0.87880392,  0.87959778,  0.90420746,  0.9047367 ,\n",
       "         0.90500132,  0.90500132,  0.90526594,  0.90526594,  0.90553056,\n",
       "         0.90579518,  0.9060598 ,  0.90658904,  0.90685366,  0.90685366,\n",
       "         0.90791215,  0.90817677,  0.90897063,  0.90897063,  0.90949987,\n",
       "         0.90949987,  0.90949987,  0.90949987,  0.91108759,  0.92987563,\n",
       "         0.92987563,  0.92987563,  0.93014025,  0.93014025,  0.93014025,\n",
       "         0.93014025,  0.93014025,  0.93014025,  0.93040487,  0.93040487,\n",
       "         0.93066949,  0.93066949,  0.93146335,  0.93146335,  0.93172797,\n",
       "         0.93199259,  0.93199259,  0.93225721,  0.93225721,  0.93252183,\n",
       "         0.93252183,  0.93278645,  0.93278645,  0.93278645,  0.93278645,\n",
       "         0.93305107,  0.93305107,  0.93305107,  0.93305107,  0.93305107,\n",
       "         0.95130987,  0.95130987,  0.95157449,  0.95157449,  0.95210373,\n",
       "         0.95236835,  0.95236835,  0.95263297,  0.95316221,  0.95316221,\n",
       "         0.95342683,  0.95342683,  0.95342683,  0.95342683,  0.95342683,\n",
       "         0.95395607,  0.95395607,  0.95395607,  0.95448531,  0.95448531,\n",
       "         0.95448531,  0.95474993,  0.95554379,  0.95554379,  0.95554379,\n",
       "         0.95554379,  0.97353797,  0.97353797,  0.97353797,  0.97353797,\n",
       "         0.97353797,  0.97353797,  0.97353797,  0.97353797,  0.97353797,\n",
       "         0.97380259,  0.97380259,  0.97380259,  0.97380259,  0.97459645,\n",
       "         0.97486107,  0.97486107,  0.97512569,  1.        ]),\n",
       " array([ 2.        ,  1.        ,  0.96666667,  0.95      ,  0.93333333,\n",
       "         0.92857143,  0.925     ,  0.9       ,  0.87333333,  0.86666667,\n",
       "         0.86666667,  0.86190476,  0.85      ,  0.83333333,  0.83333333,\n",
       "         0.825     ,  0.8       ,  0.78333333,  0.76666667,  0.76666667,\n",
       "         0.7625    ,  0.75      ,  0.74      ,  0.73333333,  0.73333333,\n",
       "         0.72857143,  0.71666667,  0.7125    ,  0.7       ,  0.68333333,\n",
       "         0.66666667,  0.66666667,  0.65      ,  0.63333333,  0.62857143,\n",
       "         0.6202381 ,  0.61666667,  0.6       ,  0.5827381 ,  0.57333333,\n",
       "         0.56666667,  0.56428571,  0.55      ,  0.54107143,  0.54      ,\n",
       "         0.53928571,  0.53333333,  0.52857143,  0.52222222,  0.50666667,\n",
       "         0.5       ,  0.4952381 ,  0.48452381,  0.47333333,  0.46833333,\n",
       "         0.46666667,  0.46607143,  0.45      ,  0.44107143,  0.44      ,\n",
       "         0.43333333,  0.43333333,  0.42857143,  0.42202381,  0.41818182,\n",
       "         0.41785714,  0.41369048,  0.40666667,  0.4       ,  0.4       ,\n",
       "         0.39285714,  0.39107143,  0.38869048,  0.38333333,  0.37333333,\n",
       "         0.37333333,  0.37202381,  0.36666667,  0.36666667,  0.3577381 ,\n",
       "         0.35535714,  0.35      ,  0.34      ,  0.33928571,  0.33333333,\n",
       "         0.33035714,  0.32857143,  0.3077381 ,  0.30666667,  0.3       ,\n",
       "         0.3       ,  0.29702381,  0.29285714,  0.29107143,  0.28869048,\n",
       "         0.28452381,  0.28035714,  0.27333333,  0.27222222,  0.26845238,\n",
       "         0.26666667,  0.25357143,  0.25      ,  0.2452381 ,  0.24      ,\n",
       "         0.2375    ,  0.23333333,  0.23333333,  0.22916667,  0.22857143,\n",
       "         0.22619048,  0.225     ,  0.21818182,  0.21607143,  0.21369048,\n",
       "         0.21040404,  0.20952381,  0.20666667,  0.20595238,  0.20416667,\n",
       "         0.2       ,  0.2       ,  0.19940476,  0.18035714,  0.17857143,\n",
       "         0.175     ,  0.17333333,  0.17202381,  0.16666667,  0.16190476,\n",
       "         0.15416667,  0.15357143,  0.15      ,  0.14285714,  0.14166667,\n",
       "         0.14      ,  0.1375    ,  0.13472222,  0.13333333,  0.12857143,\n",
       "         0.12678571,  0.125     ,  0.12290404,  0.12222222,  0.11666667,\n",
       "         0.10357143,  0.1       ,  0.0952381 ,  0.09222222,  0.09166667,\n",
       "         0.08333333,  0.075     ,  0.07290404,  0.06666667,  0.05833333,\n",
       "         0.05472222,  0.05290404,  0.05      ,  0.0375    ,  0.03333333,\n",
       "         0.03068182,  0.025     ,  0.02      ,  0.        ]))"
      ]
     },
     "execution_count": 138,
     "metadata": {},
     "output_type": "execute_result"
    }
   ],
   "source": [
    "roc_curve(y_test, rfc_y_score)"
   ]
  },
  {
   "cell_type": "code",
   "execution_count": 139,
   "metadata": {
    "collapsed": true
   },
   "outputs": [],
   "source": [
    "rfc_FPR[1], rfc_TPR[1], _ = roc_curve(y_test, rfc_y_score)\n",
    "rfc_ROC_AUC[1] = auc(rfc_FPR[1], rfc_TPR[1])"
   ]
  },
  {
   "cell_type": "code",
   "execution_count": 140,
   "metadata": {},
   "outputs": [
    {
     "data": {
      "image/png": "[encoded data removed]",
      "text/plain": [
       "<matplotlib.figure.Figure at 0x1b37937278>"
      ]
     },
     "metadata": {},
     "output_type": "display_data"
    }
   ],
   "source": [
    "plt.figure(figsize=[7,5])\n",
    "plt.plot(rfc_FPR[1], rfc_TPR[1], label='ROC curve (area = %0.3f)' % rfc_ROC_AUC[1], linewidth=3)\n",
    "plt.plot([0, 1], [0, 1], 'k--', linewidth=3)\n",
    "plt.xlim([0.0, 1])\n",
    "plt.ylim([0.0, 1])\n",
    "plt.xlabel('False Positive Rate', fontsize=18)\n",
    "plt.ylabel('True Positive Rate', fontsize=18)\n",
    "plt.title('Random Forest Classifier ROC Curve', fontsize=18)\n",
    "plt.legend(loc=\"lower right\")\n",
    "plt.show()"
   ]
  },
  {
   "cell_type": "markdown",
   "metadata": {},
   "source": [
    "# Linear SVC"
   ]
  },
  {
   "cell_type": "code",
   "execution_count": 141,
   "metadata": {},
   "outputs": [
    {
     "data": {
      "text/plain": [
       "LinearSVC(C=1.0, class_weight=None, dual=True, fit_intercept=True,\n",
       "     intercept_scaling=1, loss='squared_hinge', max_iter=1000,\n",
       "     multi_class='ovr', penalty='l2', random_state=None, tol=0.0001,\n",
       "     verbose=0)"
      ]
     },
     "execution_count": 141,
     "metadata": {},
     "output_type": "execute_result"
    }
   ],
   "source": [
    "linearsvc = LinearSVC()\n",
    "linearsvc.fit(df_train, y_train)"
   ]
  },
  {
   "cell_type": "code",
   "execution_count": 142,
   "metadata": {},
   "outputs": [
    {
     "data": {
      "text/plain": [
       "0.90304268846503177"
      ]
     },
     "execution_count": 142,
     "metadata": {},
     "output_type": "execute_result"
    }
   ],
   "source": [
    "linearsvc.score(df_train, y_train)\n",
    "linearsvc.score(df_test, y_test)"
   ]
  },
  {
   "cell_type": "code",
   "execution_count": 143,
   "metadata": {},
   "outputs": [
    {
     "name": "stdout",
     "output_type": "stream",
     "text": [
      "Base model score:  0.4290\n",
      "Training set score:  0.9843\n",
      "Test set score:  0.9030\n",
      "\n",
      "Confusion Matrix:\n",
      "       predicted_0  predicted_1\n",
      "is_0         4619          410\n",
      "is_1          444         3335\n",
      "\n",
      "Classification Report:\n",
      "              precision    recall  f1-score   support\n",
      "\n",
      "          0       0.91      0.92      0.92      5029\n",
      "          1       0.89      0.88      0.89      3779\n",
      "\n",
      "avg / total       0.90      0.90      0.90      8808\n",
      "\n"
     ]
    }
   ],
   "source": [
    "run_model(df_train, y_train, df_test, y_test, linearsvc)"
   ]
  },
  {
   "cell_type": "markdown",
   "metadata": {
    "collapsed": true
   },
   "source": [
    "# Using Neural Network  "
   ]
  },
  {
   "cell_type": "code",
   "execution_count": 33,
   "metadata": {},
   "outputs": [],
   "source": [
    "df_train = df_train.values\n",
    "df_test = df_test.values\n"
   ]
  },
  {
   "cell_type": "code",
   "execution_count": 34,
   "metadata": {
    "collapsed": true
   },
   "outputs": [],
   "source": [
    "model = Sequential()\n",
    "model.add(Dense(df_train.shape[1], input_dim=df_train.shape[1], activation='relu'))\n",
    "model.add(Dense(1, activation='sigmoid'))\n",
    "\n",
    "model.compile(optimizer='adam', loss='binary_crossentropy',metrics= ['accuracy'])"
   ]
  },
  {
   "cell_type": "code",
   "execution_count": 35,
   "metadata": {},
   "outputs": [
    {
     "name": "stdout",
     "output_type": "stream",
     "text": [
      "Train on 17880 samples, validate on 8808 samples\n",
      "Epoch 1/10\n",
      "  704/17880 [>.............................] - ETA: 1:30:04 - loss: 0.5254 - acc: 0.7940"
     ]
    },
    {
     "ename": "KeyboardInterrupt",
     "evalue": "",
     "output_type": "error",
     "traceback": [
      "\u001b[0;31m---------------------------------------------------------------------------\u001b[0m",
      "\u001b[0;31mKeyboardInterrupt\u001b[0m                         Traceback (most recent call last)",
      "\u001b[0;32m<ipython-input-35-7597209179ef>\u001b[0m in \u001b[0;36m<module>\u001b[0;34m()\u001b[0m\n\u001b[0;32m----> 1\u001b[0;31m \u001b[0mmodel\u001b[0m\u001b[0;34m.\u001b[0m\u001b[0mfit\u001b[0m\u001b[0;34m(\u001b[0m\u001b[0mdf_train\u001b[0m\u001b[0;34m,\u001b[0m\u001b[0my_train\u001b[0m\u001b[0;34m,\u001b[0m \u001b[0mvalidation_data\u001b[0m\u001b[0;34m=\u001b[0m\u001b[0;34m(\u001b[0m\u001b[0mdf_test\u001b[0m\u001b[0;34m,\u001b[0m\u001b[0my_test\u001b[0m\u001b[0;34m)\u001b[0m\u001b[0;34m,\u001b[0m\u001b[0mepochs\u001b[0m\u001b[0;34m=\u001b[0m\u001b[0;36m10\u001b[0m\u001b[0;34m)\u001b[0m\u001b[0;34m\u001b[0m\u001b[0m\n\u001b[0m",
      "\u001b[0;32m/Users/shilpi/anaconda3/lib/python3.6/site-packages/keras/models.py\u001b[0m in \u001b[0;36mfit\u001b[0;34m(self, x, y, batch_size, epochs, verbose, callbacks, validation_split, validation_data, shuffle, class_weight, sample_weight, initial_epoch, steps_per_epoch, validation_steps, **kwargs)\u001b[0m\n\u001b[1;32m    958\u001b[0m                               \u001b[0minitial_epoch\u001b[0m\u001b[0;34m=\u001b[0m\u001b[0minitial_epoch\u001b[0m\u001b[0;34m,\u001b[0m\u001b[0;34m\u001b[0m\u001b[0m\n\u001b[1;32m    959\u001b[0m                               \u001b[0msteps_per_epoch\u001b[0m\u001b[0;34m=\u001b[0m\u001b[0msteps_per_epoch\u001b[0m\u001b[0;34m,\u001b[0m\u001b[0;34m\u001b[0m\u001b[0m\n\u001b[0;32m--> 960\u001b[0;31m                               validation_steps=validation_steps)\n\u001b[0m\u001b[1;32m    961\u001b[0m \u001b[0;34m\u001b[0m\u001b[0m\n\u001b[1;32m    962\u001b[0m     def evaluate(self, x, y, batch_size=32, verbose=1,\n",
      "\u001b[0;32m/Users/shilpi/anaconda3/lib/python3.6/site-packages/keras/engine/training.py\u001b[0m in \u001b[0;36mfit\u001b[0;34m(self, x, y, batch_size, epochs, verbose, callbacks, validation_split, validation_data, shuffle, class_weight, sample_weight, initial_epoch, steps_per_epoch, validation_steps, **kwargs)\u001b[0m\n\u001b[1;32m   1648\u001b[0m                               \u001b[0minitial_epoch\u001b[0m\u001b[0;34m=\u001b[0m\u001b[0minitial_epoch\u001b[0m\u001b[0;34m,\u001b[0m\u001b[0;34m\u001b[0m\u001b[0m\n\u001b[1;32m   1649\u001b[0m                               \u001b[0msteps_per_epoch\u001b[0m\u001b[0;34m=\u001b[0m\u001b[0msteps_per_epoch\u001b[0m\u001b[0;34m,\u001b[0m\u001b[0;34m\u001b[0m\u001b[0m\n\u001b[0;32m-> 1650\u001b[0;31m                               validation_steps=validation_steps)\n\u001b[0m\u001b[1;32m   1651\u001b[0m \u001b[0;34m\u001b[0m\u001b[0m\n\u001b[1;32m   1652\u001b[0m     def evaluate(self, x=None, y=None,\n",
      "\u001b[0;32m/Users/shilpi/anaconda3/lib/python3.6/site-packages/keras/engine/training.py\u001b[0m in \u001b[0;36m_fit_loop\u001b[0;34m(self, f, ins, out_labels, batch_size, epochs, verbose, callbacks, val_f, val_ins, shuffle, callback_metrics, initial_epoch, steps_per_epoch, validation_steps)\u001b[0m\n\u001b[1;32m   1211\u001b[0m                     \u001b[0mbatch_logs\u001b[0m\u001b[0;34m[\u001b[0m\u001b[0;34m'size'\u001b[0m\u001b[0;34m]\u001b[0m \u001b[0;34m=\u001b[0m \u001b[0mlen\u001b[0m\u001b[0;34m(\u001b[0m\u001b[0mbatch_ids\u001b[0m\u001b[0;34m)\u001b[0m\u001b[0;34m\u001b[0m\u001b[0m\n\u001b[1;32m   1212\u001b[0m                     \u001b[0mcallbacks\u001b[0m\u001b[0;34m.\u001b[0m\u001b[0mon_batch_begin\u001b[0m\u001b[0;34m(\u001b[0m\u001b[0mbatch_index\u001b[0m\u001b[0;34m,\u001b[0m \u001b[0mbatch_logs\u001b[0m\u001b[0;34m)\u001b[0m\u001b[0;34m\u001b[0m\u001b[0m\n\u001b[0;32m-> 1213\u001b[0;31m                     \u001b[0mouts\u001b[0m \u001b[0;34m=\u001b[0m \u001b[0mf\u001b[0m\u001b[0;34m(\u001b[0m\u001b[0mins_batch\u001b[0m\u001b[0;34m)\u001b[0m\u001b[0;34m\u001b[0m\u001b[0m\n\u001b[0m\u001b[1;32m   1214\u001b[0m                     \u001b[0;32mif\u001b[0m \u001b[0;32mnot\u001b[0m \u001b[0misinstance\u001b[0m\u001b[0;34m(\u001b[0m\u001b[0mouts\u001b[0m\u001b[0;34m,\u001b[0m \u001b[0mlist\u001b[0m\u001b[0;34m)\u001b[0m\u001b[0;34m:\u001b[0m\u001b[0;34m\u001b[0m\u001b[0m\n\u001b[1;32m   1215\u001b[0m                         \u001b[0mouts\u001b[0m \u001b[0;34m=\u001b[0m \u001b[0;34m[\u001b[0m\u001b[0mouts\u001b[0m\u001b[0;34m]\u001b[0m\u001b[0;34m\u001b[0m\u001b[0m\n",
      "\u001b[0;32m/Users/shilpi/anaconda3/lib/python3.6/site-packages/keras/backend/tensorflow_backend.py\u001b[0m in \u001b[0;36m__call__\u001b[0;34m(self, inputs)\u001b[0m\n\u001b[1;32m   2350\u001b[0m         \u001b[0msession\u001b[0m \u001b[0;34m=\u001b[0m \u001b[0mget_session\u001b[0m\u001b[0;34m(\u001b[0m\u001b[0;34m)\u001b[0m\u001b[0;34m\u001b[0m\u001b[0m\n\u001b[1;32m   2351\u001b[0m         updated = session.run(fetches=fetches, feed_dict=feed_dict,\n\u001b[0;32m-> 2352\u001b[0;31m                               **self.session_kwargs)\n\u001b[0m\u001b[1;32m   2353\u001b[0m         \u001b[0;32mreturn\u001b[0m \u001b[0mupdated\u001b[0m\u001b[0;34m[\u001b[0m\u001b[0;34m:\u001b[0m\u001b[0mlen\u001b[0m\u001b[0;34m(\u001b[0m\u001b[0mself\u001b[0m\u001b[0;34m.\u001b[0m\u001b[0moutputs\u001b[0m\u001b[0;34m)\u001b[0m\u001b[0;34m]\u001b[0m\u001b[0;34m\u001b[0m\u001b[0m\n\u001b[1;32m   2354\u001b[0m \u001b[0;34m\u001b[0m\u001b[0m\n",
      "\u001b[0;32m/Users/shilpi/anaconda3/lib/python3.6/site-packages/tensorflow/python/client/session.py\u001b[0m in \u001b[0;36mrun\u001b[0;34m(self, fetches, feed_dict, options, run_metadata)\u001b[0m\n\u001b[1;32m    893\u001b[0m     \u001b[0;32mtry\u001b[0m\u001b[0;34m:\u001b[0m\u001b[0;34m\u001b[0m\u001b[0m\n\u001b[1;32m    894\u001b[0m       result = self._run(None, fetches, feed_dict, options_ptr,\n\u001b[0;32m--> 895\u001b[0;31m                          run_metadata_ptr)\n\u001b[0m\u001b[1;32m    896\u001b[0m       \u001b[0;32mif\u001b[0m \u001b[0mrun_metadata\u001b[0m\u001b[0;34m:\u001b[0m\u001b[0;34m\u001b[0m\u001b[0m\n\u001b[1;32m    897\u001b[0m         \u001b[0mproto_data\u001b[0m \u001b[0;34m=\u001b[0m \u001b[0mtf_session\u001b[0m\u001b[0;34m.\u001b[0m\u001b[0mTF_GetBuffer\u001b[0m\u001b[0;34m(\u001b[0m\u001b[0mrun_metadata_ptr\u001b[0m\u001b[0;34m)\u001b[0m\u001b[0;34m\u001b[0m\u001b[0m\n",
      "\u001b[0;32m/Users/shilpi/anaconda3/lib/python3.6/site-packages/tensorflow/python/client/session.py\u001b[0m in \u001b[0;36m_run\u001b[0;34m(self, handle, fetches, feed_dict, options, run_metadata)\u001b[0m\n\u001b[1;32m   1122\u001b[0m     \u001b[0;32mif\u001b[0m \u001b[0mfinal_fetches\u001b[0m \u001b[0;32mor\u001b[0m \u001b[0mfinal_targets\u001b[0m \u001b[0;32mor\u001b[0m \u001b[0;34m(\u001b[0m\u001b[0mhandle\u001b[0m \u001b[0;32mand\u001b[0m \u001b[0mfeed_dict_tensor\u001b[0m\u001b[0;34m)\u001b[0m\u001b[0;34m:\u001b[0m\u001b[0;34m\u001b[0m\u001b[0m\n\u001b[1;32m   1123\u001b[0m       results = self._do_run(handle, final_targets, final_fetches,\n\u001b[0;32m-> 1124\u001b[0;31m                              feed_dict_tensor, options, run_metadata)\n\u001b[0m\u001b[1;32m   1125\u001b[0m     \u001b[0;32melse\u001b[0m\u001b[0;34m:\u001b[0m\u001b[0;34m\u001b[0m\u001b[0m\n\u001b[1;32m   1126\u001b[0m       \u001b[0mresults\u001b[0m \u001b[0;34m=\u001b[0m \u001b[0;34m[\u001b[0m\u001b[0;34m]\u001b[0m\u001b[0;34m\u001b[0m\u001b[0m\n",
      "\u001b[0;32m/Users/shilpi/anaconda3/lib/python3.6/site-packages/tensorflow/python/client/session.py\u001b[0m in \u001b[0;36m_do_run\u001b[0;34m(self, handle, target_list, fetch_list, feed_dict, options, run_metadata)\u001b[0m\n\u001b[1;32m   1319\u001b[0m     \u001b[0;32mif\u001b[0m \u001b[0mhandle\u001b[0m \u001b[0;32mis\u001b[0m \u001b[0;32mNone\u001b[0m\u001b[0;34m:\u001b[0m\u001b[0;34m\u001b[0m\u001b[0m\n\u001b[1;32m   1320\u001b[0m       return self._do_call(_run_fn, self._session, feeds, fetches, targets,\n\u001b[0;32m-> 1321\u001b[0;31m                            options, run_metadata)\n\u001b[0m\u001b[1;32m   1322\u001b[0m     \u001b[0;32melse\u001b[0m\u001b[0;34m:\u001b[0m\u001b[0;34m\u001b[0m\u001b[0m\n\u001b[1;32m   1323\u001b[0m       \u001b[0;32mreturn\u001b[0m \u001b[0mself\u001b[0m\u001b[0;34m.\u001b[0m\u001b[0m_do_call\u001b[0m\u001b[0;34m(\u001b[0m\u001b[0m_prun_fn\u001b[0m\u001b[0;34m,\u001b[0m \u001b[0mself\u001b[0m\u001b[0;34m.\u001b[0m\u001b[0m_session\u001b[0m\u001b[0;34m,\u001b[0m \u001b[0mhandle\u001b[0m\u001b[0;34m,\u001b[0m \u001b[0mfeeds\u001b[0m\u001b[0;34m,\u001b[0m \u001b[0mfetches\u001b[0m\u001b[0;34m)\u001b[0m\u001b[0;34m\u001b[0m\u001b[0m\n",
      "\u001b[0;32m/Users/shilpi/anaconda3/lib/python3.6/site-packages/tensorflow/python/client/session.py\u001b[0m in \u001b[0;36m_do_call\u001b[0;34m(self, fn, *args)\u001b[0m\n\u001b[1;32m   1325\u001b[0m   \u001b[0;32mdef\u001b[0m \u001b[0m_do_call\u001b[0m\u001b[0;34m(\u001b[0m\u001b[0mself\u001b[0m\u001b[0;34m,\u001b[0m \u001b[0mfn\u001b[0m\u001b[0;34m,\u001b[0m \u001b[0;34m*\u001b[0m\u001b[0margs\u001b[0m\u001b[0;34m)\u001b[0m\u001b[0;34m:\u001b[0m\u001b[0;34m\u001b[0m\u001b[0m\n\u001b[1;32m   1326\u001b[0m     \u001b[0;32mtry\u001b[0m\u001b[0;34m:\u001b[0m\u001b[0;34m\u001b[0m\u001b[0m\n\u001b[0;32m-> 1327\u001b[0;31m       \u001b[0;32mreturn\u001b[0m \u001b[0mfn\u001b[0m\u001b[0;34m(\u001b[0m\u001b[0;34m*\u001b[0m\u001b[0margs\u001b[0m\u001b[0;34m)\u001b[0m\u001b[0;34m\u001b[0m\u001b[0m\n\u001b[0m\u001b[1;32m   1328\u001b[0m     \u001b[0;32mexcept\u001b[0m \u001b[0merrors\u001b[0m\u001b[0;34m.\u001b[0m\u001b[0mOpError\u001b[0m \u001b[0;32mas\u001b[0m \u001b[0me\u001b[0m\u001b[0;34m:\u001b[0m\u001b[0;34m\u001b[0m\u001b[0m\n\u001b[1;32m   1329\u001b[0m       \u001b[0mmessage\u001b[0m \u001b[0;34m=\u001b[0m \u001b[0mcompat\u001b[0m\u001b[0;34m.\u001b[0m\u001b[0mas_text\u001b[0m\u001b[0;34m(\u001b[0m\u001b[0me\u001b[0m\u001b[0;34m.\u001b[0m\u001b[0mmessage\u001b[0m\u001b[0;34m)\u001b[0m\u001b[0;34m\u001b[0m\u001b[0m\n",
      "\u001b[0;32m/Users/shilpi/anaconda3/lib/python3.6/site-packages/tensorflow/python/client/session.py\u001b[0m in \u001b[0;36m_run_fn\u001b[0;34m(session, feed_dict, fetch_list, target_list, options, run_metadata)\u001b[0m\n\u001b[1;32m   1304\u001b[0m           return tf_session.TF_Run(session, options,\n\u001b[1;32m   1305\u001b[0m                                    \u001b[0mfeed_dict\u001b[0m\u001b[0;34m,\u001b[0m \u001b[0mfetch_list\u001b[0m\u001b[0;34m,\u001b[0m \u001b[0mtarget_list\u001b[0m\u001b[0;34m,\u001b[0m\u001b[0;34m\u001b[0m\u001b[0m\n\u001b[0;32m-> 1306\u001b[0;31m                                    status, run_metadata)\n\u001b[0m\u001b[1;32m   1307\u001b[0m \u001b[0;34m\u001b[0m\u001b[0m\n\u001b[1;32m   1308\u001b[0m     \u001b[0;32mdef\u001b[0m \u001b[0m_prun_fn\u001b[0m\u001b[0;34m(\u001b[0m\u001b[0msession\u001b[0m\u001b[0;34m,\u001b[0m \u001b[0mhandle\u001b[0m\u001b[0;34m,\u001b[0m \u001b[0mfeed_dict\u001b[0m\u001b[0;34m,\u001b[0m \u001b[0mfetch_list\u001b[0m\u001b[0;34m)\u001b[0m\u001b[0;34m:\u001b[0m\u001b[0;34m\u001b[0m\u001b[0m\n",
      "\u001b[0;31mKeyboardInterrupt\u001b[0m: "
     ]
    }
   ],
   "source": [
    "model.fit(df_train,y_train, validation_data=(df_test,y_test),epochs=10)"
   ]
  },
  {
   "cell_type": "markdown",
   "metadata": {
    "collapsed": true
   },
   "source": [
    "#### Had to interrupt the kernel due to the execution time it was taking for a single epoch to execute when I had to execute 10 epochs"
   ]
  },
  {
   "cell_type": "code",
   "execution_count": null,
   "metadata": {
    "collapsed": true
   },
   "outputs": [],
   "source": []
  }
 ],
 "metadata": {
  "kernelspec": {
   "display_name": "Python 3",
   "language": "python",
   "name": "python3"
  },
  "language_info": {
   "codemirror_mode": {
    "name": "ipython",
    "version": 3
   },
   "file_extension": ".py",
   "mimetype": "text/x-python",
   "name": "python",
   "nbconvert_exporter": "python",
   "pygments_lexer": "ipython3",
   "version": "3.6.1"
  }
 },
 "nbformat": 4,
 "nbformat_minor": 2
}
